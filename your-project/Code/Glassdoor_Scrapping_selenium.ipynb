{
 "cells": [
  {
   "cell_type": "code",
   "execution_count": 3,
   "metadata": {},
   "outputs": [],
   "source": [
    "import requests\n",
    "from bs4 import BeautifulSoup\n",
    "import pandas as pd\n",
    "import re\n",
    "from selenium import webdriver\n",
    "from getpass import getpass"
   ]
  },
  {
   "cell_type": "markdown",
   "metadata": {},
   "source": [
    "# Barcelona"
   ]
  },
  {
   "cell_type": "code",
   "execution_count": 4,
   "metadata": {},
   "outputs": [],
   "source": [
    "#we get the url we want to scrape\n",
    "url='https://www.glassdoor.es/Sueldos/barcelona-data-analyst-sueldo-SRCH_IL.0,9_IM1015_KO10,22.htm?countryRedirect=true'\n",
    "#username = input('Enter your username: ')\n",
    "#password = getpass('Enter your password: ')"
   ]
  },
  {
   "cell_type": "code",
   "execution_count": 5,
   "metadata": {},
   "outputs": [],
   "source": [
    "#we get the web driver for our navigator\n",
    "driver = webdriver.Chrome(r'C:\\Users\\Usuario\\Desktop\\Project_scrapper\\chromedriver_win32\\chromedriver.exe')\n",
    "driver.get(url)"
   ]
  },
  {
   "cell_type": "code",
   "execution_count": 22,
   "metadata": {},
   "outputs": [
    {
     "data": {
      "text/plain": [
       "'38.054 €/año'"
      ]
     },
     "execution_count": 22,
     "metadata": {},
     "output_type": "execute_result"
    }
   ],
   "source": [
    "driver.find_element_by_xpath('//*[@id=\"SalariesByCompany\"]/div[1]/div[4]/div/div[1]/div/div[2]/p[3]').text\n",
    "//*[@id=\"SalariesByCompany\"]/div[1]/div[4]/div/div[1]/div/div[2]/p[3]"
   ]
  },
  {
   "cell_type": "code",
   "execution_count": 8,
   "metadata": {},
   "outputs": [],
   "source": [
    "job_titles = []\n",
    "companies = []\n",
    "salaries = []\n",
    "for i in range(4,24):\n",
    "    job_title = driver.find_element_by_xpath(f'//*[@id=\"SalariesByCompany\"]/div[1]/div[{i}]/div/div[1]/div/div[2]/p[1]/a').text\n",
    "    job_titles.append(job_title)\n",
    "    company = driver.find_element_by_xpath(f'//*[@id=\"SalariesByCompany\"]/div[1]/div[{i}]/div/div[1]/div/div[2]/p[2]').text\n",
    "    companies.append(company)\n",
    "    salary = driver.find_element_by_xpath(f'//*[@id=\"SalariesByCompany\"]/div[1]/div[{i}]/div/div[1]/div/div[2]/p[3]').text\n",
    "    salaries.append(salary)"
   ]
  },
  {
   "cell_type": "code",
   "execution_count": 9,
   "metadata": {},
   "outputs": [
    {
     "name": "stdout",
     "output_type": "stream",
     "text": [
      "['Data Analyst', 'Data Analyst', 'Data Analyst', 'Data Analyst', 'Data Analyst', 'Data Analyst', 'Data Analyst', 'Data Analyst', 'Data Analyst', 'Data Analyst - Becario por mes', 'Data Analyst', 'Data Analyst - Proveedor de servicios', 'Data Analyst', 'Data Analyst', 'Data Analyst - Becario', 'Data Analyst', 'Data Analyst', 'Data Analyst - Becario por mes', 'Data Analyst - Por mes', 'Data Analyst']\n",
      "['Criteo', 'Ubiqum Code Academy', 'everis', 'Glovo', 'Socialpoint', 'Adevinta', 'SegurCaixa Adeslas', 'Innova-Tsn', 'Kernel Analytics', 'Accenture', 'Accenture', 'Altran Group', 'eDreams ODIGEO', 'HP Inc.', 'HP Inc.', 'Minsait', 'Sopra Steria', 'Criteo', 'Criteo', 'SAP']\n",
      "['38.054 €/año', '46.937 €/año', '27.576 €/año', '28.880 €/año', '31.451 €/año', '38.725 €/año', '25.198 €/año', '23.852 €/año', '30.778 €/año', '1.098 €/mes', '26.965 €/año', '28.129 €/año', '24.997 €/año', '27.948 €/año', '14.243 €/año', '25.179 €/año', '29.759 €/año', '996 €/mes', '2.690 €/mes', '30.848 €/año']\n"
     ]
    }
   ],
   "source": [
    "print(job_titles)\n",
    "print(companies)\n",
    "print(salaries)"
   ]
  },
  {
   "cell_type": "code",
   "execution_count": 10,
   "metadata": {},
   "outputs": [],
   "source": [
    "second_page = driver.find_element_by_xpath('//*[@id=\"SalariesByCompany\"]/div[1]/div[24]/ul/li[3]/a')\n",
    "second_page.click()"
   ]
  },
  {
   "cell_type": "code",
   "execution_count": 11,
   "metadata": {},
   "outputs": [],
   "source": [
    "accept_cookies = driver.find_element_by_xpath('//*[@id=\"onetrust-accept-btn-handler\"]')\n",
    "accept_cookies.click()"
   ]
  },
  {
   "cell_type": "code",
   "execution_count": 12,
   "metadata": {},
   "outputs": [],
   "source": [
    "login = driver.find_element_by_xpath('//*[@id=\"HardsellOverlay\"]/div/div/div/div/div/div/div/div[2]/div/a')\n",
    "login.click()"
   ]
  },
  {
   "cell_type": "code",
   "execution_count": 15,
   "metadata": {},
   "outputs": [],
   "source": [
    "username_textbox = driver.find_element_by_xpath('//*[@id=\"userEmail\"]')\n",
    "password_textbox = driver.find_element_by_xpath('//*[@id=\"userPassword\"]')"
   ]
  },
  {
   "cell_type": "code",
   "execution_count": 17,
   "metadata": {},
   "outputs": [
    {
     "name": "stdout",
     "output_type": "stream",
     "text": [
      "Enter your password: ········\n"
     ]
    }
   ],
   "source": [
    "username = 'felipeyuji.deguchi@alumni.esade.edu'\n",
    "password = getpass('Enter your password: ')"
   ]
  },
  {
   "cell_type": "code",
   "execution_count": 18,
   "metadata": {},
   "outputs": [],
   "source": [
    "username_textbox.send_keys(username)\n",
    "password_textbox.send_keys(password)"
   ]
  },
  {
   "cell_type": "code",
   "execution_count": 19,
   "metadata": {},
   "outputs": [],
   "source": [
    "login_button = driver.find_element_by_xpath('//*[@id=\"HardsellOverlay\"]/div/div/div/div/div/div/div/div[3]/form/div[3]/div[1]/button')\n",
    "login_button.click()"
   ]
  },
  {
   "cell_type": "code",
   "execution_count": 60,
   "metadata": {},
   "outputs": [
    {
     "data": {
      "text/plain": [
       "'Data Analyst'"
      ]
     },
     "execution_count": 60,
     "metadata": {},
     "output_type": "execute_result"
    }
   ],
   "source": [
    " driver.find_element_by_xpath('//*[@id=\"SalariesByCompany\"]/div[1]/div[4]/div/div[1]/div/div[2]/p[1]/a').text\n",
    "    //*[@id=\"SalariesByCompany\"]/div[1]/div[23]/div/div[1]/div/div[2]/p[1]/a"
   ]
  },
  {
   "cell_type": "code",
   "execution_count": 61,
   "metadata": {},
   "outputs": [],
   "source": [
    "for i in range(4,24):\n",
    "    job_title = driver.find_element_by_xpath(f'//*[@id=\"SalariesByCompany\"]/div[1]/div[{i}]/div/div[1]/div/div[2]/p[1]/a').text\n",
    "    job_titles.append(job_title)\n",
    "    company = driver.find_element_by_xpath(f'//*[@id=\"SalariesByCompany\"]/div[1]/div[{i}]/div/div[1]/div/div[2]/p[2]').text\n",
    "    companies.append(company)\n",
    "    salary = driver.find_element_by_xpath(f'//*[@id=\"SalariesByCompany\"]/div[1]/div[{i}]/div/div[1]/div/div[2]/p[3]').text\n",
    "    salaries.append(salary)"
   ]
  },
  {
   "cell_type": "code",
   "execution_count": 62,
   "metadata": {},
   "outputs": [
    {
     "name": "stdout",
     "output_type": "stream",
     "text": [
      "['Data Analyst', 'Data Analyst', 'Data Analyst', 'Data Analyst', 'Data Analyst', 'Data Analyst', 'Data Analyst', 'Data Analyst', 'Data Analyst', 'Data Analyst - Becario por mes', 'Data Analyst', 'Data Analyst - Proveedor de servicios', 'Data Analyst', 'Data Analyst', 'Data Analyst - Becario', 'Data Analyst', 'Data Analyst', 'Data Analyst - Becario por mes', 'Data Analyst - Por mes', 'Data Analyst', 'Data Analyst', 'Data Analyst', 'Data Analyst', 'Data Analyst', 'Data Analyst', 'Data Analyst', 'Data Analyst', 'Data Analyst', 'Data Analyst', 'Data Analyst', 'Data Analyst', 'Data Analyst', 'Data Analyst - Becario por mes', 'Data Analyst', 'Data Analyst', 'Data Analyst', 'Data Analyst', 'Data Analyst', 'Data Analyst - Becario por hora', 'Data Analyst']\n",
      "['Criteo', 'Ubiqum Code Academy', 'everis', 'Glovo', 'Socialpoint', 'Adevinta', 'SegurCaixa Adeslas', 'Innova-Tsn', 'Kernel Analytics', 'Accenture', 'Accenture', 'Altran Group', 'eDreams ODIGEO', 'HP Inc.', 'HP Inc.', 'Minsait', 'Sopra Steria', 'Criteo', 'Criteo', 'SAP', 'Vistaprint', 'Schneider Electric', 'Mango', 'Dow Jones', 'Sogeti', 'PUIG', 'Xerox', 'Cargill', 'Wallapop', 'Techedge', 'Boehringer Ingelheim', 'Ecolab', 'Splendia', 'Rebold', 'ClearPeaks', 'Kantar Worldpanel', 'Primagas', 'La Redoute', 'Tekman Books', 'CYBERCLICK MARKETING']\n",
      "['38.054 €/año', '46.937 €/año', '27.576 €/año', '28.880 €/año', '31.451 €/año', '38.725 €/año', '25.198 €/año', '23.852 €/año', '30.778 €/año', '1.098 €/mes', '26.965 €/año', '28.129 €/año', '24.997 €/año', '27.948 €/año', '14.243 €/año', '25.179 €/año', '29.759 €/año', '996 €/mes', '2.690 €/mes', '30.848 €/año', '37.285 €/año', '24.488 €/año', '24.976 €/año', '23.698 €/año', '27.695 €/año', '44.466 €/año', '19.505 €/año', '51.684 €/año', '38.000 €/año', '28.219 €/año', '40.514 €/año', '35.573 €/año', '600 €/mes', '18.847 €/año', '26.997 €/año', '23.550 €/año', '46.000 €/año', '48.396 €/año', '6 €/h', '29.886 €/año']\n"
     ]
    }
   ],
   "source": [
    "print(job_titles)\n",
    "print(companies)\n",
    "print(salaries)"
   ]
  },
  {
   "cell_type": "code",
   "execution_count": 63,
   "metadata": {},
   "outputs": [],
   "source": [
    "third_page = driver.find_element_by_xpath('//*[@id=\"SalariesByCompany\"]/div[1]/div[24]/ul/li[4]/a')\n",
    "third_page.click()"
   ]
  },
  {
   "cell_type": "code",
   "execution_count": 66,
   "metadata": {},
   "outputs": [],
   "source": [
    "for i in range(4,20):\n",
    "    job_title = driver.find_element_by_xpath(f'//*[@id=\"SalariesByCompany\"]/div[1]/div[{i}]/div/div[1]/div/div[2]/p[1]/a').text\n",
    "    job_titles.append(job_title)\n",
    "    company = driver.find_element_by_xpath(f'//*[@id=\"SalariesByCompany\"]/div[1]/div[{i}]/div/div[1]/div/div[2]/p[2]').text\n",
    "    companies.append(company)\n",
    "    salary = driver.find_element_by_xpath(f'//*[@id=\"SalariesByCompany\"]/div[1]/div[{i}]/div/div[1]/div/div[2]/p[3]').text\n",
    "    salaries.append(salary)"
   ]
  },
  {
   "cell_type": "code",
   "execution_count": 67,
   "metadata": {
    "scrolled": true
   },
   "outputs": [
    {
     "name": "stdout",
     "output_type": "stream",
     "text": [
      "['Data Analyst', 'Data Analyst', 'Data Analyst', 'Data Analyst', 'Data Analyst', 'Data Analyst', 'Data Analyst', 'Data Analyst', 'Data Analyst', 'Data Analyst - Becario por mes', 'Data Analyst', 'Data Analyst - Proveedor de servicios', 'Data Analyst', 'Data Analyst', 'Data Analyst - Becario', 'Data Analyst', 'Data Analyst', 'Data Analyst - Becario por mes', 'Data Analyst - Por mes', 'Data Analyst', 'Data Analyst', 'Data Analyst', 'Data Analyst', 'Data Analyst', 'Data Analyst', 'Data Analyst', 'Data Analyst', 'Data Analyst', 'Data Analyst', 'Data Analyst', 'Data Analyst', 'Data Analyst', 'Data Analyst - Becario por mes', 'Data Analyst', 'Data Analyst', 'Data Analyst', 'Data Analyst', 'Data Analyst', 'Data Analyst - Becario por hora', 'Data Analyst', 'Data Analyst', 'Data Analyst - Por mes', 'Data Analyst - Por mes', 'Data Analyst', 'Data Analyst', 'Senior Data Analyst', 'Senior Data Analyst', 'Senior Data Analyst', 'Senior Data Analyst', 'Business Data Analyst', 'Business Data Analyst', 'Junior Data Analyst', 'Junior Data Analyst', 'Marketing Data Analyst', 'Big Data Analyst', 'Big Data Analyst']\n",
      "['Criteo', 'Ubiqum Code Academy', 'everis', 'Glovo', 'Socialpoint', 'Adevinta', 'SegurCaixa Adeslas', 'Innova-Tsn', 'Kernel Analytics', 'Accenture', 'Accenture', 'Altran Group', 'eDreams ODIGEO', 'HP Inc.', 'HP Inc.', 'Minsait', 'Sopra Steria', 'Criteo', 'Criteo', 'SAP', 'Vistaprint', 'Schneider Electric', 'Mango', 'Dow Jones', 'Sogeti', 'PUIG', 'Xerox', 'Cargill', 'Wallapop', 'Techedge', 'Boehringer Ingelheim', 'Ecolab', 'Splendia', 'Rebold', 'ClearPeaks', 'Kantar Worldpanel', 'Primagas', 'La Redoute', 'Tekman Books', 'CYBERCLICK MARKETING', 'Zeptolab', '500 Markets', 'Light Stone', 'Higuests', 'En GantaBI', 'Criteo', 'Vistaprint', 'Bayer', 'Norwegian Air Shuttle', 'SDG Group', 'Autodesk', 'Glovo', 'FocusEconomics', 'Adevinta', 'Minsait', 'Nest']\n",
      "['38.054 €/año', '46.937 €/año', '27.576 €/año', '28.880 €/año', '31.451 €/año', '38.725 €/año', '25.198 €/año', '23.852 €/año', '30.778 €/año', '1.098 €/mes', '26.965 €/año', '28.129 €/año', '24.997 €/año', '27.948 €/año', '14.243 €/año', '25.179 €/año', '29.759 €/año', '996 €/mes', '2.690 €/mes', '30.848 €/año', '37.285 €/año', '24.488 €/año', '24.976 €/año', '23.698 €/año', '27.695 €/año', '44.466 €/año', '19.505 €/año', '51.684 €/año', '38.000 €/año', '28.219 €/año', '40.514 €/año', '35.573 €/año', '600 €/mes', '18.847 €/año', '26.997 €/año', '23.550 €/año', '46.000 €/año', '48.396 €/año', '6 €/h', '29.886 €/año', '35.738 €/año', '1.019 €/mes', '897 €/mes', '47.320 €/año', '47.118 €/año', '36.860 €/año', '51.424 €/año', '27.053 €/año', '32.000 €/año', '24.574 €/año', '33.937 €/año', '25.976 €/año', '11.884 €/año', '45.499 €/año', '24.070 €/año', '49.371 €/año']\n"
     ]
    }
   ],
   "source": [
    "print(job_titles)\n",
    "print(companies)\n",
    "print(salaries)"
   ]
  },
  {
   "cell_type": "markdown",
   "metadata": {},
   "source": [
    "# Dublín"
   ]
  },
  {
   "cell_type": "code",
   "execution_count": 95,
   "metadata": {},
   "outputs": [],
   "source": [
    "url='https://www.glassdoor.es/Sueldos/dubl%C3%ADn-data-analyst-sueldo-SRCH_IL.0,6_IM1052_KO7,19.htm'"
   ]
  },
  {
   "cell_type": "code",
   "execution_count": 96,
   "metadata": {},
   "outputs": [],
   "source": [
    "driver = webdriver.Chrome(r'C:\\Users\\Usuario\\Desktop\\Project_scrapper\\chromedriver_win32\\chromedriver.exe')\n",
    "driver.get(url)"
   ]
  },
  {
   "cell_type": "code",
   "execution_count": 97,
   "metadata": {},
   "outputs": [
    {
     "data": {
      "text/plain": [
       "'Data Analyst'"
      ]
     },
     "execution_count": 97,
     "metadata": {},
     "output_type": "execute_result"
    }
   ],
   "source": [
    "driver.find_element_by_xpath('//*[@id=\"SalariesByCompany\"]/div[1]/div[4]/div/div[1]/div/div[2]/p[1]/a').text"
   ]
  },
  {
   "cell_type": "code",
   "execution_count": 76,
   "metadata": {},
   "outputs": [],
   "source": [
    "job_titlesdb = []\n",
    "companiesdb = []\n",
    "salariesdb = []\n",
    "for i in range(4,24):\n",
    "    job_title = driver.find_element_by_xpath(f'//*[@id=\"SalariesByCompany\"]/div[1]/div[{i}]/div/div[1]/div/div[2]/p[1]/a').text\n",
    "    job_titlesdb.append(job_title)\n",
    "    company = driver.find_element_by_xpath(f'//*[@id=\"SalariesByCompany\"]/div[1]/div[{i}]/div/div[1]/div/div[2]/p[2]').text\n",
    "    companiesdb.append(company)\n",
    "    salary = driver.find_element_by_xpath(f'//*[@id=\"SalariesByCompany\"]/div[1]/div[{i}]/div/div[1]/div/div[2]/p[3]').text\n",
    "    salariesdb.append(salary)"
   ]
  },
  {
   "cell_type": "code",
   "execution_count": 79,
   "metadata": {},
   "outputs": [
    {
     "name": "stdout",
     "output_type": "stream",
     "text": [
      "['Data Analyst', 'Data Analyst', 'Data Analyst', 'Data Analyst', 'Data Analyst', 'Data Analyst', 'Data Analyst', 'Data Analyst', 'Data Analyst', 'Data Analyst', 'Data Analyst', 'Data Analyst', 'Data Analyst', 'Data Analyst', 'Data Analyst', 'Data Analyst - Proveedor de servicios', 'Data Analyst - Proveedor de servicios por mes', 'Data Analyst - Becario', 'Data Analyst - Proveedor de servicios', 'Data Analyst']\n",
      "['KPMG', 'Accenture', 'Aon', 'Google', 'Allied Irish Banks', 'EY', 'Bank of Ireland', 'Paddy Power Betfair', 'Groupon', 'Intercontinental Exchange', 'Fidelity Investments', 'Infosys BPM', 'ACIA', 'Clavis Insight', 'Interactive Data', 'Google', 'Allied Irish Banks', 'EY', 'KPMG', 'Facebook']\n",
      "['26.026 €/año', '28.414 €/año', '41.473 €/año', '35.270 €/año', '45.723 €/año', '34.384 €/año', '32.655 €/año', '34.659 €/año', '61.697 €/año', '26.156 €/año', '37.792 €/año', '24.404 €/año', '35.965 €/año', '31.969 €/año', '24.410 €/año', '23.693 €/año', '8.022 €/mes', '18.982 £/año', '26.026 €/año', '63.188 €/año']\n"
     ]
    }
   ],
   "source": [
    "print(job_titlesdb)\n",
    "print(companiesdb)\n",
    "print(salariesdb)"
   ]
  },
  {
   "cell_type": "code",
   "execution_count": 100,
   "metadata": {},
   "outputs": [],
   "source": [
    "second_page = driver.find_element_by_xpath('//*[@id=\"SalariesByCompany\"]/div[1]/div[24]/ul/li[3]/a')\n",
    "second_page.click()"
   ]
  },
  {
   "cell_type": "code",
   "execution_count": 101,
   "metadata": {},
   "outputs": [],
   "source": [
    "accept_cookies = driver.find_element_by_xpath('//*[@id=\"onetrust-accept-btn-handler\"]')\n",
    "accept_cookies.click()"
   ]
  },
  {
   "cell_type": "code",
   "execution_count": 102,
   "metadata": {},
   "outputs": [],
   "source": [
    "login = driver.find_element_by_xpath('//*[@id=\"HardsellOverlay\"]/div/div/div/div/div/div/div/div[2]/div/a')\n",
    "login.click()"
   ]
  },
  {
   "cell_type": "code",
   "execution_count": 103,
   "metadata": {},
   "outputs": [],
   "source": [
    "username_textbox = driver.find_element_by_xpath('//*[@id=\"userEmail\"]')\n",
    "password_textbox = driver.find_element_by_xpath('//*[@id=\"userPassword\"]')"
   ]
  },
  {
   "cell_type": "code",
   "execution_count": 84,
   "metadata": {},
   "outputs": [
    {
     "name": "stdout",
     "output_type": "stream",
     "text": [
      "Enter your password: ········\n"
     ]
    }
   ],
   "source": [
    "username = 'felipeyuji.deguchi@alumni.esade.edu'\n",
    "password = getpass('Enter your password: ')"
   ]
  },
  {
   "cell_type": "code",
   "execution_count": 104,
   "metadata": {},
   "outputs": [],
   "source": [
    "username_textbox.send_keys(username)\n",
    "password_textbox.send_keys(password)"
   ]
  },
  {
   "cell_type": "code",
   "execution_count": 105,
   "metadata": {},
   "outputs": [],
   "source": [
    "login_button = driver.find_element_by_xpath('//*[@id=\"HardsellOverlay\"]/div/div/div/div/div/div/div/div[3]/form/div[3]/div[1]/button')\n",
    "login_button.click()"
   ]
  },
  {
   "cell_type": "code",
   "execution_count": 87,
   "metadata": {},
   "outputs": [
    {
     "data": {
      "text/plain": [
       "'Data Analyst'"
      ]
     },
     "execution_count": 87,
     "metadata": {},
     "output_type": "execute_result"
    }
   ],
   "source": [
    "driver.find_element_by_xpath('//*[@id=\"SalariesByCompany\"]/div[1]/div[4]/div/div[1]/div/div[2]/p[1]/a').text"
   ]
  },
  {
   "cell_type": "code",
   "execution_count": 88,
   "metadata": {},
   "outputs": [],
   "source": [
    "for i in range(4,24):\n",
    "    job_title = driver.find_element_by_xpath(f'//*[@id=\"SalariesByCompany\"]/div[1]/div[{i}]/div/div[1]/div/div[2]/p[1]/a').text\n",
    "    job_titlesdb.append(job_title)\n",
    "    company = driver.find_element_by_xpath(f'//*[@id=\"SalariesByCompany\"]/div[1]/div[{i}]/div/div[1]/div/div[2]/p[2]').text\n",
    "    companiesdb.append(company)\n",
    "    salary = driver.find_element_by_xpath(f'//*[@id=\"SalariesByCompany\"]/div[1]/div[{i}]/div/div[1]/div/div[2]/p[3]').text\n",
    "    salariesdb.append(salary)"
   ]
  },
  {
   "cell_type": "code",
   "execution_count": 89,
   "metadata": {},
   "outputs": [
    {
     "name": "stdout",
     "output_type": "stream",
     "text": [
      "['Data Analyst', 'Data Analyst', 'Data Analyst', 'Data Analyst', 'Data Analyst', 'Data Analyst', 'Data Analyst', 'Data Analyst', 'Data Analyst', 'Data Analyst', 'Data Analyst', 'Data Analyst', 'Data Analyst', 'Data Analyst', 'Data Analyst', 'Data Analyst - Proveedor de servicios', 'Data Analyst - Proveedor de servicios por mes', 'Data Analyst - Becario', 'Data Analyst - Proveedor de servicios', 'Data Analyst', 'Data Analyst', 'Data Analyst', 'Data Analyst', 'Data Analyst', 'Data Analyst', 'Data Analyst - Proveedor de servicios', 'Data Analyst', 'Data Analyst', 'Data Analyst', 'Data Analyst', 'Data Analyst', 'Data Analyst - Proveedor de servicios', 'Data Analyst - Por mes', 'Data Analyst', 'Data Analyst - Por mes', 'Data Analyst', 'Data Analyst - Becario', 'Data Analyst - Becario', 'Data Analyst - Proveedor de servicios', 'Data Analyst - Becario por mes']\n",
      "['KPMG', 'Accenture', 'Aon', 'Google', 'Allied Irish Banks', 'EY', 'Bank of Ireland', 'Paddy Power Betfair', 'Groupon', 'Intercontinental Exchange', 'Fidelity Investments', 'Infosys BPM', 'ACIA', 'Clavis Insight', 'Interactive Data', 'Google', 'Allied Irish Banks', 'EY', 'KPMG', 'Facebook', 'permanent tsb', 'Deutsche Bank', 'Bank of America', 'Three Ireland', 'ESBI', 'Mylan Inc', 'Central Bank of Ireland', 'Allied Irish Bank (GB)', 'SSE', 'Pocket Kings', 'RSA Group', 'Clavis Insight', 'Accenture', 'IBM', 'Allied Irish Banks', 'Microsoft', 'EY', 'Deloitte', 'Deloitte', 'Bank of Ireland']\n",
      "['26.026 €/año', '28.414 €/año', '41.473 €/año', '35.270 €/año', '45.723 €/año', '34.384 €/año', '32.655 €/año', '34.659 €/año', '61.697 €/año', '26.156 €/año', '37.792 €/año', '24.404 €/año', '35.965 €/año', '31.969 €/año', '24.410 €/año', '23.693 €/año', '8.022 €/mes', '18.982 £/año', '26.026 €/año', '63.188 €/año', '41.302 €/año', '60.568 €/año', '42.365 €/año', '59.082 €/año', '44.078 €/año', '40.155 €/año', '47.622 €/año', '28.720 €/año', '49.636 €/año', '33.842 €/año', '47.689 €/año', '37.536 €/año', '2.002 €/mes', '30.300 €/año', '5.994 €/mes', '45.000 €/año', '16.934 €/año', '19.709 €/año', '46.074 €/año', '1.822 €/mes']\n"
     ]
    }
   ],
   "source": [
    "print(job_titlesdb)\n",
    "print(companiesdb)\n",
    "print(salariesdb)"
   ]
  },
  {
   "cell_type": "code",
   "execution_count": 106,
   "metadata": {},
   "outputs": [],
   "source": [
    "third_page = driver.find_element_by_xpath('//*[@id=\"SalariesByCompany\"]/div[1]/div[24]/ul/li[4]/a')\n",
    "third_page.click()"
   ]
  },
  {
   "cell_type": "code",
   "execution_count": 91,
   "metadata": {},
   "outputs": [],
   "source": [
    "for i in range(4,24):\n",
    "    job_title = driver.find_element_by_xpath(f'//*[@id=\"SalariesByCompany\"]/div[1]/div[{i}]/div/div[1]/div/div[2]/p[1]/a').text\n",
    "    job_titlesdb.append(job_title)\n",
    "    company = driver.find_element_by_xpath(f'//*[@id=\"SalariesByCompany\"]/div[1]/div[{i}]/div/div[1]/div/div[2]/p[2]').text\n",
    "    companiesdb.append(company)\n",
    "    salary = driver.find_element_by_xpath(f'//*[@id=\"SalariesByCompany\"]/div[1]/div[{i}]/div/div[1]/div/div[2]/p[3]').text\n",
    "    salariesdb.append(salary)"
   ]
  },
  {
   "cell_type": "code",
   "execution_count": 92,
   "metadata": {},
   "outputs": [
    {
     "name": "stdout",
     "output_type": "stream",
     "text": [
      "['Data Analyst', 'Data Analyst', 'Data Analyst', 'Data Analyst', 'Data Analyst', 'Data Analyst', 'Data Analyst', 'Data Analyst', 'Data Analyst', 'Data Analyst', 'Data Analyst', 'Data Analyst', 'Data Analyst', 'Data Analyst', 'Data Analyst', 'Data Analyst - Proveedor de servicios', 'Data Analyst - Proveedor de servicios por mes', 'Data Analyst - Becario', 'Data Analyst - Proveedor de servicios', 'Data Analyst', 'Data Analyst', 'Data Analyst', 'Data Analyst', 'Data Analyst', 'Data Analyst', 'Data Analyst - Proveedor de servicios', 'Data Analyst', 'Data Analyst', 'Data Analyst', 'Data Analyst', 'Data Analyst', 'Data Analyst - Proveedor de servicios', 'Data Analyst - Por mes', 'Data Analyst', 'Data Analyst - Por mes', 'Data Analyst', 'Data Analyst - Becario', 'Data Analyst - Becario', 'Data Analyst - Proveedor de servicios', 'Data Analyst - Becario por mes', 'Data Analyst', 'Data Analyst - Proveedor de servicios', 'Data Analyst - Becario', 'Data Analyst - Proveedor de servicios por hora', 'Data Analyst', 'Data Analyst - Becario por mes', 'Data Analyst - Proveedor de servicios', 'Data Analyst', 'Data Analyst', 'Data Analyst - Proveedor de servicios', 'Data Analyst', 'Data Analyst', 'Data Analyst', 'Data Analyst - Por mes', 'Data Analyst', 'Data Analyst - Por mes', 'Data Analyst', 'Data Analyst', 'Data Analyst - Becario', 'Data Analyst - Por hora']\n",
      "['KPMG', 'Accenture', 'Aon', 'Google', 'Allied Irish Banks', 'EY', 'Bank of Ireland', 'Paddy Power Betfair', 'Groupon', 'Intercontinental Exchange', 'Fidelity Investments', 'Infosys BPM', 'ACIA', 'Clavis Insight', 'Interactive Data', 'Google', 'Allied Irish Banks', 'EY', 'KPMG', 'Facebook', 'permanent tsb', 'Deutsche Bank', 'Bank of America', 'Three Ireland', 'ESBI', 'Mylan Inc', 'Central Bank of Ireland', 'Allied Irish Bank (GB)', 'SSE', 'Pocket Kings', 'RSA Group', 'Clavis Insight', 'Accenture', 'IBM', 'Allied Irish Banks', 'Microsoft', 'EY', 'Deloitte', 'Deloitte', 'Bank of Ireland', 'Salesforce', 'PwC', 'PwC', 'CPL Resources', 'Arvato', 'University College Dublin', 'eircom', 'eircom', 'eircom', 'Health Service Executive', 'Health Service Executive', 'Version 1', 'Pfizer', 'Airbnb', 'Smartbox Worldwide', 'Kerry', 'CarTrawler', 'Ryanair', 'Deutsche Bank', 'HCL Technologies']\n",
      "['26.026 €/año', '28.414 €/año', '41.473 €/año', '35.270 €/año', '45.723 €/año', '34.384 €/año', '32.655 €/año', '34.659 €/año', '61.697 €/año', '26.156 €/año', '37.792 €/año', '24.404 €/año', '35.965 €/año', '31.969 €/año', '24.410 €/año', '23.693 €/año', '8.022 €/mes', '18.982 £/año', '26.026 €/año', '63.188 €/año', '41.302 €/año', '60.568 €/año', '42.365 €/año', '59.082 €/año', '44.078 €/año', '40.155 €/año', '47.622 €/año', '28.720 €/año', '49.636 €/año', '33.842 €/año', '47.689 €/año', '37.536 €/año', '2.002 €/mes', '30.300 €/año', '5.994 €/mes', '45.000 €/año', '16.934 €/año', '19.709 €/año', '46.074 €/año', '1.822 €/mes', '39.631 €/año', '23.906 €/año', '18.982 €/año', '11 €/h', '42.335 €/año', '1.401 €/mes', '37.482 €/año', '43.828 €/año', '30.179 €/año', '41.960 €/año', '35.140 €/año', '30.698 €/año', '38.125 €/año', '2.278 €/mes', '30.000 €/año', '2.463 €/mes', '40.115 €/año', '28.084 €/año', '22.066 €/año', '11 €/h']\n"
     ]
    }
   ],
   "source": [
    "print(job_titlesdb)\n",
    "print(companiesdb)\n",
    "print(salariesdb)"
   ]
  },
  {
   "cell_type": "code",
   "execution_count": 108,
   "metadata": {},
   "outputs": [],
   "source": [
    "third_page = driver.find_element_by_xpath('//*[@id=\"SalariesByCompany\"]/div[1]/div[24]/ul/li[4]/a')\n",
    "third_page.click()"
   ]
  },
  {
   "cell_type": "code",
   "execution_count": 109,
   "metadata": {},
   "outputs": [],
   "source": [
    "for i in range(4,24):\n",
    "    job_title = driver.find_element_by_xpath(f'//*[@id=\"SalariesByCompany\"]/div[1]/div[{i}]/div/div[1]/div/div[2]/p[1]/a').text\n",
    "    job_titlesdb.append(job_title)\n",
    "    company = driver.find_element_by_xpath(f'//*[@id=\"SalariesByCompany\"]/div[1]/div[{i}]/div/div[1]/div/div[2]/p[2]').text\n",
    "    companiesdb.append(company)\n",
    "    salary = driver.find_element_by_xpath(f'//*[@id=\"SalariesByCompany\"]/div[1]/div[{i}]/div/div[1]/div/div[2]/p[3]').text\n",
    "    salariesdb.append(salary)"
   ]
  },
  {
   "cell_type": "code",
   "execution_count": 110,
   "metadata": {
    "scrolled": true
   },
   "outputs": [
    {
     "name": "stdout",
     "output_type": "stream",
     "text": [
      "['Data Analyst', 'Data Analyst', 'Data Analyst', 'Data Analyst', 'Data Analyst', 'Data Analyst', 'Data Analyst', 'Data Analyst', 'Data Analyst', 'Data Analyst', 'Data Analyst', 'Data Analyst', 'Data Analyst', 'Data Analyst', 'Data Analyst', 'Data Analyst - Proveedor de servicios', 'Data Analyst - Proveedor de servicios por mes', 'Data Analyst - Becario', 'Data Analyst - Proveedor de servicios', 'Data Analyst', 'Data Analyst', 'Data Analyst', 'Data Analyst', 'Data Analyst', 'Data Analyst', 'Data Analyst - Proveedor de servicios', 'Data Analyst', 'Data Analyst', 'Data Analyst', 'Data Analyst', 'Data Analyst', 'Data Analyst - Proveedor de servicios', 'Data Analyst - Por mes', 'Data Analyst', 'Data Analyst - Por mes', 'Data Analyst', 'Data Analyst - Becario', 'Data Analyst - Becario', 'Data Analyst - Proveedor de servicios', 'Data Analyst - Becario por mes', 'Data Analyst', 'Data Analyst - Proveedor de servicios', 'Data Analyst - Becario', 'Data Analyst - Proveedor de servicios por hora', 'Data Analyst', 'Data Analyst - Becario por mes', 'Data Analyst - Proveedor de servicios', 'Data Analyst', 'Data Analyst', 'Data Analyst - Proveedor de servicios', 'Data Analyst', 'Data Analyst', 'Data Analyst', 'Data Analyst - Por mes', 'Data Analyst', 'Data Analyst - Por mes', 'Data Analyst', 'Data Analyst', 'Data Analyst - Becario', 'Data Analyst - Por hora', 'Data Analyst', 'Data Analyst - Proveedor de servicios', 'Data Analyst - Becario', 'Data Analyst - Proveedor de servicios por hora', 'Data Analyst', 'Data Analyst - Becario por mes', 'Data Analyst - Proveedor de servicios', 'Data Analyst', 'Data Analyst', 'Data Analyst - Proveedor de servicios', 'Data Analyst', 'Data Analyst', 'Data Analyst', 'Data Analyst - Por mes', 'Data Analyst', 'Data Analyst - Por mes', 'Data Analyst', 'Data Analyst', 'Data Analyst - Becario', 'Data Analyst - Por hora']\n",
      "['KPMG', 'Accenture', 'Aon', 'Google', 'Allied Irish Banks', 'EY', 'Bank of Ireland', 'Paddy Power Betfair', 'Groupon', 'Intercontinental Exchange', 'Fidelity Investments', 'Infosys BPM', 'ACIA', 'Clavis Insight', 'Interactive Data', 'Google', 'Allied Irish Banks', 'EY', 'KPMG', 'Facebook', 'permanent tsb', 'Deutsche Bank', 'Bank of America', 'Three Ireland', 'ESBI', 'Mylan Inc', 'Central Bank of Ireland', 'Allied Irish Bank (GB)', 'SSE', 'Pocket Kings', 'RSA Group', 'Clavis Insight', 'Accenture', 'IBM', 'Allied Irish Banks', 'Microsoft', 'EY', 'Deloitte', 'Deloitte', 'Bank of Ireland', 'Salesforce', 'PwC', 'PwC', 'CPL Resources', 'Arvato', 'University College Dublin', 'eircom', 'eircom', 'eircom', 'Health Service Executive', 'Health Service Executive', 'Version 1', 'Pfizer', 'Airbnb', 'Smartbox Worldwide', 'Kerry', 'CarTrawler', 'Ryanair', 'Deutsche Bank', 'HCL Technologies', 'Salesforce', 'PwC', 'PwC', 'CPL Resources', 'Arvato', 'University College Dublin', 'eircom', 'eircom', 'eircom', 'Health Service Executive', 'Health Service Executive', 'Version 1', 'Pfizer', 'Airbnb', 'Smartbox Worldwide', 'Kerry', 'CarTrawler', 'Ryanair', 'Deutsche Bank', 'HCL Technologies']\n",
      "['26.026 €/año', '28.414 €/año', '41.473 €/año', '35.270 €/año', '45.723 €/año', '34.384 €/año', '32.655 €/año', '34.659 €/año', '61.697 €/año', '26.156 €/año', '37.792 €/año', '24.404 €/año', '35.965 €/año', '31.969 €/año', '24.410 €/año', '23.693 €/año', '8.022 €/mes', '18.982 £/año', '26.026 €/año', '63.188 €/año', '41.302 €/año', '60.568 €/año', '42.365 €/año', '59.082 €/año', '44.078 €/año', '40.155 €/año', '47.622 €/año', '28.720 €/año', '49.636 €/año', '33.842 €/año', '47.689 €/año', '37.536 €/año', '2.002 €/mes', '30.300 €/año', '5.994 €/mes', '45.000 €/año', '16.934 €/año', '19.709 €/año', '46.074 €/año', '1.822 €/mes', '39.631 €/año', '23.906 €/año', '18.982 €/año', '11 €/h', '42.335 €/año', '1.401 €/mes', '37.482 €/año', '43.828 €/año', '30.179 €/año', '41.960 €/año', '35.140 €/año', '30.698 €/año', '38.125 €/año', '2.278 €/mes', '30.000 €/año', '2.463 €/mes', '40.115 €/año', '28.084 €/año', '22.066 €/año', '11 €/h', '39.631 €/año', '23.906 €/año', '18.982 €/año', '11 €/h', '42.335 €/año', '1.401 €/mes', '37.482 €/año', '43.828 €/año', '30.179 €/año', '41.960 €/año', '35.140 €/año', '30.698 €/año', '38.125 €/año', '2.278 €/mes', '30.000 €/año', '2.463 €/mes', '40.115 €/año', '28.084 €/año', '22.066 €/año', '11 €/h']\n"
     ]
    }
   ],
   "source": [
    "print(job_titlesdb)\n",
    "print(companiesdb)\n",
    "print(salariesdb)"
   ]
  },
  {
   "cell_type": "code",
   "execution_count": 111,
   "metadata": {},
   "outputs": [],
   "source": [
    "fourth_page = driver.find_element_by_xpath('//*[@id=\"SalariesByCompany\"]/div[1]/div[24]/ul/li[5]/a')\n",
    "fourth_page.click()"
   ]
  },
  {
   "cell_type": "code",
   "execution_count": 112,
   "metadata": {},
   "outputs": [],
   "source": [
    "for i in range(4,24):\n",
    "    job_title = driver.find_element_by_xpath(f'//*[@id=\"SalariesByCompany\"]/div[1]/div[{i}]/div/div[1]/div/div[2]/p[1]/a').text\n",
    "    job_titlesdb.append(job_title)\n",
    "    company = driver.find_element_by_xpath(f'//*[@id=\"SalariesByCompany\"]/div[1]/div[{i}]/div/div[1]/div/div[2]/p[2]').text\n",
    "    companiesdb.append(company)\n",
    "    salary = driver.find_element_by_xpath(f'//*[@id=\"SalariesByCompany\"]/div[1]/div[{i}]/div/div[1]/div/div[2]/p[3]').text\n",
    "    salariesdb.append(salary)"
   ]
  },
  {
   "cell_type": "code",
   "execution_count": 113,
   "metadata": {},
   "outputs": [
    {
     "name": "stdout",
     "output_type": "stream",
     "text": [
      "['Data Analyst', 'Data Analyst', 'Data Analyst', 'Data Analyst', 'Data Analyst', 'Data Analyst', 'Data Analyst', 'Data Analyst', 'Data Analyst', 'Data Analyst', 'Data Analyst', 'Data Analyst', 'Data Analyst', 'Data Analyst', 'Data Analyst', 'Data Analyst - Proveedor de servicios', 'Data Analyst - Proveedor de servicios por mes', 'Data Analyst - Becario', 'Data Analyst - Proveedor de servicios', 'Data Analyst', 'Data Analyst', 'Data Analyst', 'Data Analyst', 'Data Analyst', 'Data Analyst', 'Data Analyst - Proveedor de servicios', 'Data Analyst', 'Data Analyst', 'Data Analyst', 'Data Analyst', 'Data Analyst', 'Data Analyst - Proveedor de servicios', 'Data Analyst - Por mes', 'Data Analyst', 'Data Analyst - Por mes', 'Data Analyst', 'Data Analyst - Becario', 'Data Analyst - Becario', 'Data Analyst - Proveedor de servicios', 'Data Analyst - Becario por mes', 'Data Analyst', 'Data Analyst - Proveedor de servicios', 'Data Analyst - Becario', 'Data Analyst - Proveedor de servicios por hora', 'Data Analyst', 'Data Analyst - Becario por mes', 'Data Analyst - Proveedor de servicios', 'Data Analyst', 'Data Analyst', 'Data Analyst - Proveedor de servicios', 'Data Analyst', 'Data Analyst', 'Data Analyst', 'Data Analyst - Por mes', 'Data Analyst', 'Data Analyst - Por mes', 'Data Analyst', 'Data Analyst', 'Data Analyst - Becario', 'Data Analyst - Por hora', 'Data Analyst', 'Data Analyst - Proveedor de servicios', 'Data Analyst - Becario', 'Data Analyst - Proveedor de servicios por hora', 'Data Analyst', 'Data Analyst - Becario por mes', 'Data Analyst - Proveedor de servicios', 'Data Analyst', 'Data Analyst', 'Data Analyst - Proveedor de servicios', 'Data Analyst', 'Data Analyst', 'Data Analyst', 'Data Analyst - Por mes', 'Data Analyst', 'Data Analyst - Por mes', 'Data Analyst', 'Data Analyst', 'Data Analyst - Becario', 'Data Analyst - Por hora', 'Data Analyst', 'Data Analyst - Proveedor de servicios', 'Data Analyst', 'Data Analyst', 'Data Analyst', 'Data Analyst - Proveedor de servicios por hora', 'Data Analyst - Proveedor de servicios', 'Data Analyst - Proveedor de servicios', 'Data Analyst - Proveedor de servicios', 'Data Analyst - Becario', 'Data Analyst - Proveedor de servicios por hora', 'Data Analyst - Becario por mes', 'Data Analyst', 'Data Analyst - Proveedor de servicios', 'Data Analyst', 'Data Analyst', 'Data Analyst', 'Data Analyst', 'Data Analyst - Por hora', 'Data Analyst - Proveedor de servicios']\n",
      "['KPMG', 'Accenture', 'Aon', 'Google', 'Allied Irish Banks', 'EY', 'Bank of Ireland', 'Paddy Power Betfair', 'Groupon', 'Intercontinental Exchange', 'Fidelity Investments', 'Infosys BPM', 'ACIA', 'Clavis Insight', 'Interactive Data', 'Google', 'Allied Irish Banks', 'EY', 'KPMG', 'Facebook', 'permanent tsb', 'Deutsche Bank', 'Bank of America', 'Three Ireland', 'ESBI', 'Mylan Inc', 'Central Bank of Ireland', 'Allied Irish Bank (GB)', 'SSE', 'Pocket Kings', 'RSA Group', 'Clavis Insight', 'Accenture', 'IBM', 'Allied Irish Banks', 'Microsoft', 'EY', 'Deloitte', 'Deloitte', 'Bank of Ireland', 'Salesforce', 'PwC', 'PwC', 'CPL Resources', 'Arvato', 'University College Dublin', 'eircom', 'eircom', 'eircom', 'Health Service Executive', 'Health Service Executive', 'Version 1', 'Pfizer', 'Airbnb', 'Smartbox Worldwide', 'Kerry', 'CarTrawler', 'Ryanair', 'Deutsche Bank', 'HCL Technologies', 'Salesforce', 'PwC', 'PwC', 'CPL Resources', 'Arvato', 'University College Dublin', 'eircom', 'eircom', 'eircom', 'Health Service Executive', 'Health Service Executive', 'Version 1', 'Pfizer', 'Airbnb', 'Smartbox Worldwide', 'Kerry', 'CarTrawler', 'Ryanair', 'Deutsche Bank', 'HCL Technologies', 'HCL Technologies', 'Bank of America', 'Susquehanna International Group (SIG)', 'Mylan Inc', 'Aviva', 'Central Bank of Ireland', 'Yahoo', 'Allergan', 'Davy', 'Grant Thornton', 'Davy', 'Royal College of Surgeons in Ireland', 'GameStop', 'Aon', 'Sogeti', 'Telefónica', 'J.P. Morgan', 'The AA', 'CBRE', 'BNP Paribas']\n",
      "['26.026 €/año', '28.414 €/año', '41.473 €/año', '35.270 €/año', '45.723 €/año', '34.384 €/año', '32.655 €/año', '34.659 €/año', '61.697 €/año', '26.156 €/año', '37.792 €/año', '24.404 €/año', '35.965 €/año', '31.969 €/año', '24.410 €/año', '23.693 €/año', '8.022 €/mes', '18.982 £/año', '26.026 €/año', '63.188 €/año', '41.302 €/año', '60.568 €/año', '42.365 €/año', '59.082 €/año', '44.078 €/año', '40.155 €/año', '47.622 €/año', '28.720 €/año', '49.636 €/año', '33.842 €/año', '47.689 €/año', '37.536 €/año', '2.002 €/mes', '30.300 €/año', '5.994 €/mes', '45.000 €/año', '16.934 €/año', '19.709 €/año', '46.074 €/año', '1.822 €/mes', '39.631 €/año', '23.906 €/año', '18.982 €/año', '11 €/h', '42.335 €/año', '1.401 €/mes', '37.482 €/año', '43.828 €/año', '30.179 €/año', '41.960 €/año', '35.140 €/año', '30.698 €/año', '38.125 €/año', '2.278 €/mes', '30.000 €/año', '2.463 €/mes', '40.115 €/año', '28.084 €/año', '22.066 €/año', '11 €/h', '39.631 €/año', '23.906 €/año', '18.982 €/año', '11 €/h', '42.335 €/año', '1.401 €/mes', '37.482 €/año', '43.828 €/año', '30.179 €/año', '41.960 €/año', '35.140 €/año', '30.698 €/año', '38.125 €/año', '2.278 €/mes', '30.000 €/año', '2.463 €/mes', '40.115 €/año', '28.084 €/año', '22.066 €/año', '11 €/h', '27.434 €/año', '30.090 €/año', '51.493 €/año', '53.102 €/año', '24.476 €/año', '55 €/h', '56.622 €/año', '31.643 €/año', '36.639 €/año', '17.552 €/año', '29 €/h', '975 €/mes', '30.120 €/año', '32.191 €/año', '25.000 €/año', '45.269 €/año', '34.591 €/año', '31.595 €/año', '15 £/h', '27.754 €/año']\n"
     ]
    }
   ],
   "source": [
    "print(job_titlesdb)\n",
    "print(companiesdb)\n",
    "print(salariesdb)"
   ]
  },
  {
   "cell_type": "code",
   "execution_count": 115,
   "metadata": {},
   "outputs": [],
   "source": [
    "fifth_page = driver.find_element_by_xpath('//*[@id=\"SalariesByCompany\"]/div[1]/div[24]/ul/li[5]/a')\n",
    "fifth_page.click()"
   ]
  },
  {
   "cell_type": "code",
   "execution_count": 116,
   "metadata": {},
   "outputs": [],
   "source": [
    "for i in range(4,24):\n",
    "    job_title = driver.find_element_by_xpath(f'//*[@id=\"SalariesByCompany\"]/div[1]/div[{i}]/div/div[1]/div/div[2]/p[1]/a').text\n",
    "    job_titlesdb.append(job_title)\n",
    "    company = driver.find_element_by_xpath(f'//*[@id=\"SalariesByCompany\"]/div[1]/div[{i}]/div/div[1]/div/div[2]/p[2]').text\n",
    "    companiesdb.append(company)\n",
    "    salary = driver.find_element_by_xpath(f'//*[@id=\"SalariesByCompany\"]/div[1]/div[{i}]/div/div[1]/div/div[2]/p[3]').text\n",
    "    salariesdb.append(salary)"
   ]
  },
  {
   "cell_type": "code",
   "execution_count": 117,
   "metadata": {},
   "outputs": [
    {
     "name": "stdout",
     "output_type": "stream",
     "text": [
      "['Data Analyst', 'Data Analyst', 'Data Analyst', 'Data Analyst', 'Data Analyst', 'Data Analyst', 'Data Analyst', 'Data Analyst', 'Data Analyst', 'Data Analyst', 'Data Analyst', 'Data Analyst', 'Data Analyst', 'Data Analyst', 'Data Analyst', 'Data Analyst - Proveedor de servicios', 'Data Analyst - Proveedor de servicios por mes', 'Data Analyst - Becario', 'Data Analyst - Proveedor de servicios', 'Data Analyst', 'Data Analyst', 'Data Analyst', 'Data Analyst', 'Data Analyst', 'Data Analyst', 'Data Analyst - Proveedor de servicios', 'Data Analyst', 'Data Analyst', 'Data Analyst', 'Data Analyst', 'Data Analyst', 'Data Analyst - Proveedor de servicios', 'Data Analyst - Por mes', 'Data Analyst', 'Data Analyst - Por mes', 'Data Analyst', 'Data Analyst - Becario', 'Data Analyst - Becario', 'Data Analyst - Proveedor de servicios', 'Data Analyst - Becario por mes', 'Data Analyst', 'Data Analyst - Proveedor de servicios', 'Data Analyst - Becario', 'Data Analyst - Proveedor de servicios por hora', 'Data Analyst', 'Data Analyst - Becario por mes', 'Data Analyst - Proveedor de servicios', 'Data Analyst', 'Data Analyst', 'Data Analyst - Proveedor de servicios', 'Data Analyst', 'Data Analyst', 'Data Analyst', 'Data Analyst - Por mes', 'Data Analyst', 'Data Analyst - Por mes', 'Data Analyst', 'Data Analyst', 'Data Analyst - Becario', 'Data Analyst - Por hora', 'Data Analyst', 'Data Analyst - Proveedor de servicios', 'Data Analyst - Becario', 'Data Analyst - Proveedor de servicios por hora', 'Data Analyst', 'Data Analyst - Becario por mes', 'Data Analyst - Proveedor de servicios', 'Data Analyst', 'Data Analyst', 'Data Analyst - Proveedor de servicios', 'Data Analyst', 'Data Analyst', 'Data Analyst', 'Data Analyst - Por mes', 'Data Analyst', 'Data Analyst - Por mes', 'Data Analyst', 'Data Analyst', 'Data Analyst - Becario', 'Data Analyst - Por hora', 'Data Analyst', 'Data Analyst - Proveedor de servicios', 'Data Analyst', 'Data Analyst', 'Data Analyst', 'Data Analyst - Proveedor de servicios por hora', 'Data Analyst - Proveedor de servicios', 'Data Analyst - Proveedor de servicios', 'Data Analyst - Proveedor de servicios', 'Data Analyst - Becario', 'Data Analyst - Proveedor de servicios por hora', 'Data Analyst - Becario por mes', 'Data Analyst', 'Data Analyst - Proveedor de servicios', 'Data Analyst', 'Data Analyst', 'Data Analyst', 'Data Analyst', 'Data Analyst - Por hora', 'Data Analyst - Proveedor de servicios', 'Data Analyst - Por mes', 'Data Analyst', 'Data Analyst', 'Data Analyst - Proveedor de servicios por hora', 'Data Analyst - Becario', 'Data Analyst', 'Data Analyst', 'Data Analyst - Proveedor de servicios', 'Data Analyst', 'Data Analyst', 'Data Analyst - Proveedor de servicios', 'Data Analyst - Proveedor de servicios por hora', 'Data Analyst', 'Data Analyst - Proveedor de servicios', 'Data Analyst - Por mes', 'Data Analyst', 'Data Analyst', 'Data Analyst', 'Data Analyst', 'Data Analyst']\n",
      "['KPMG', 'Accenture', 'Aon', 'Google', 'Allied Irish Banks', 'EY', 'Bank of Ireland', 'Paddy Power Betfair', 'Groupon', 'Intercontinental Exchange', 'Fidelity Investments', 'Infosys BPM', 'ACIA', 'Clavis Insight', 'Interactive Data', 'Google', 'Allied Irish Banks', 'EY', 'KPMG', 'Facebook', 'permanent tsb', 'Deutsche Bank', 'Bank of America', 'Three Ireland', 'ESBI', 'Mylan Inc', 'Central Bank of Ireland', 'Allied Irish Bank (GB)', 'SSE', 'Pocket Kings', 'RSA Group', 'Clavis Insight', 'Accenture', 'IBM', 'Allied Irish Banks', 'Microsoft', 'EY', 'Deloitte', 'Deloitte', 'Bank of Ireland', 'Salesforce', 'PwC', 'PwC', 'CPL Resources', 'Arvato', 'University College Dublin', 'eircom', 'eircom', 'eircom', 'Health Service Executive', 'Health Service Executive', 'Version 1', 'Pfizer', 'Airbnb', 'Smartbox Worldwide', 'Kerry', 'CarTrawler', 'Ryanair', 'Deutsche Bank', 'HCL Technologies', 'Salesforce', 'PwC', 'PwC', 'CPL Resources', 'Arvato', 'University College Dublin', 'eircom', 'eircom', 'eircom', 'Health Service Executive', 'Health Service Executive', 'Version 1', 'Pfizer', 'Airbnb', 'Smartbox Worldwide', 'Kerry', 'CarTrawler', 'Ryanair', 'Deutsche Bank', 'HCL Technologies', 'HCL Technologies', 'Bank of America', 'Susquehanna International Group (SIG)', 'Mylan Inc', 'Aviva', 'Central Bank of Ireland', 'Yahoo', 'Allergan', 'Davy', 'Grant Thornton', 'Davy', 'Royal College of Surgeons in Ireland', 'GameStop', 'Aon', 'Sogeti', 'Telefónica', 'J.P. Morgan', 'The AA', 'CBRE', 'BNP Paribas', 'Burger King', 'HCL', 'Trane Technologies', 'G4S', 'The Coca-Cola Company', 'Kerry Foods', 'Electric Ireland', 'Electric Ireland', 'Moneymate', 'Analytic Partners', 'ACIA', 'Rockall Technologies', 'Mediolanum', 'Enel X', 'Wiline', 'Skylads', 'Marsh & McLennan Companies', 'Geneva Trading', 'Edge by Ascential', 'ResMed']\n",
      "['26.026 €/año', '28.414 €/año', '41.473 €/año', '35.270 €/año', '45.723 €/año', '34.384 €/año', '32.655 €/año', '34.659 €/año', '61.697 €/año', '26.156 €/año', '37.792 €/año', '24.404 €/año', '35.965 €/año', '31.969 €/año', '24.410 €/año', '23.693 €/año', '8.022 €/mes', '18.982 £/año', '26.026 €/año', '63.188 €/año', '41.302 €/año', '60.568 €/año', '42.365 €/año', '59.082 €/año', '44.078 €/año', '40.155 €/año', '47.622 €/año', '28.720 €/año', '49.636 €/año', '33.842 €/año', '47.689 €/año', '37.536 €/año', '2.002 €/mes', '30.300 €/año', '5.994 €/mes', '45.000 €/año', '16.934 €/año', '19.709 €/año', '46.074 €/año', '1.822 €/mes', '39.631 €/año', '23.906 €/año', '18.982 €/año', '11 €/h', '42.335 €/año', '1.401 €/mes', '37.482 €/año', '43.828 €/año', '30.179 €/año', '41.960 €/año', '35.140 €/año', '30.698 €/año', '38.125 €/año', '2.278 €/mes', '30.000 €/año', '2.463 €/mes', '40.115 €/año', '28.084 €/año', '22.066 €/año', '11 €/h', '39.631 €/año', '23.906 €/año', '18.982 €/año', '11 €/h', '42.335 €/año', '1.401 €/mes', '37.482 €/año', '43.828 €/año', '30.179 €/año', '41.960 €/año', '35.140 €/año', '30.698 €/año', '38.125 €/año', '2.278 €/mes', '30.000 €/año', '2.463 €/mes', '40.115 €/año', '28.084 €/año', '22.066 €/año', '11 €/h', '27.434 €/año', '30.090 €/año', '51.493 €/año', '53.102 €/año', '24.476 €/año', '55 €/h', '56.622 €/año', '31.643 €/año', '36.639 €/año', '17.552 €/año', '29 €/h', '975 €/mes', '30.120 €/año', '32.191 €/año', '25.000 €/año', '45.269 €/año', '34.591 €/año', '31.595 €/año', '15 £/h', '27.754 €/año', '', '', '', '', '', '', '', '', '', '', '', '', '', '', '', '', '', '', '', '']\n"
     ]
    }
   ],
   "source": [
    "print(job_titlesdb)\n",
    "print(companiesdb)\n",
    "print(salariesdb)"
   ]
  },
  {
   "cell_type": "markdown",
   "metadata": {},
   "source": [
    "# London"
   ]
  },
  {
   "cell_type": "code",
   "execution_count": 118,
   "metadata": {},
   "outputs": [],
   "source": [
    "url='https://www.glassdoor.es/Sueldos/londres-data-analyst-sueldo-SRCH_IL.0,7_IM1035_KO8,20.htm'"
   ]
  },
  {
   "cell_type": "code",
   "execution_count": 119,
   "metadata": {},
   "outputs": [],
   "source": [
    "driver = webdriver.Chrome(r'C:\\Users\\Usuario\\Desktop\\Project_scrapper\\chromedriver_win32\\chromedriver.exe')\n",
    "driver.get(url)"
   ]
  },
  {
   "cell_type": "code",
   "execution_count": 121,
   "metadata": {},
   "outputs": [
    {
     "data": {
      "text/plain": [
       "'Data Analyst'"
      ]
     },
     "execution_count": 121,
     "metadata": {},
     "output_type": "execute_result"
    }
   ],
   "source": [
    "driver.find_element_by_xpath('//*[@id=\"SalariesByCompany\"]/div[1]/div[4]/div/div[1]/div/div[2]/p[1]/a').text"
   ]
  },
  {
   "cell_type": "code",
   "execution_count": 122,
   "metadata": {},
   "outputs": [],
   "source": [
    "job_titlesldn = []\n",
    "companiesldn = []\n",
    "salariesldn = []\n",
    "for i in range(4,24):\n",
    "    job_title = driver.find_element_by_xpath(f'//*[@id=\"SalariesByCompany\"]/div[1]/div[{i}]/div/div[1]/div/div[2]/p[1]/a').text\n",
    "    job_titlesldn.append(job_title)\n",
    "    company = driver.find_element_by_xpath(f'//*[@id=\"SalariesByCompany\"]/div[1]/div[{i}]/div/div[1]/div/div[2]/p[2]').text\n",
    "    companiesldn.append(company)\n",
    "    salary = driver.find_element_by_xpath(f'//*[@id=\"SalariesByCompany\"]/div[1]/div[{i}]/div/div[1]/div/div[2]/p[3]').text\n",
    "    salariesldn.append(salary)"
   ]
  },
  {
   "cell_type": "code",
   "execution_count": 123,
   "metadata": {},
   "outputs": [
    {
     "name": "stdout",
     "output_type": "stream",
     "text": [
      "['Data Analyst', 'Data Analyst', 'Data Analyst', 'Data Analyst', 'Data Analyst', 'Data Analyst', 'Data Analyst', 'Data Analyst', 'Data Analyst', 'Data Analyst', 'Data Analyst', 'Data Analyst', 'Data Analyst', 'Data Analyst', 'Data Analyst', 'Data Analyst', 'Data Analyst', 'Data Analyst', 'Data Analyst', 'Data Analyst']\n",
      "['Bloomberg L.P.', \"Her Majesty's Revenue & Customs\", 'Experian', 'Sport England', 'Kubrick Group', 'PwC', 'KPMG', 'Sky', 'Cision', 'EY', 'BAE Systems Applied Intelligence', 'CACI (UK)', 'Deloitte', 'Ministry of Justice UK', 'Kantar Media', 'Legal and General Investment Management', 'BCD Travel', 'Infectious Media', 'Tesco', 'Barclays']\n",
      "['44.221 £/año', '33.879 £/año', '31.671 £/año', '46.467 £/año', '26.106 £/año', '33.096 £/año', '38.444 £/año', '40.955 £/año', '23.689 £/año', '41.838 £/año', '39.576 £/año', '27.392 £/año', '34.048 £/año', '35.550 £/año', '29.569 £/año', '57.384 £/año', '26.036 £/año', '24.445 £/año', '55.000 £/año', '47.031 £/año']\n"
     ]
    }
   ],
   "source": [
    "print(job_titlesldn)\n",
    "print(companiesldn)\n",
    "print(salariesldn)"
   ]
  },
  {
   "cell_type": "code",
   "execution_count": 124,
   "metadata": {},
   "outputs": [],
   "source": [
    "second_page = driver.find_element_by_xpath('//*[@id=\"SalariesByCompany\"]/div[1]/div[24]/ul/li[3]/a')\n",
    "second_page.click()"
   ]
  },
  {
   "cell_type": "code",
   "execution_count": 125,
   "metadata": {},
   "outputs": [],
   "source": [
    "accept_cookies = driver.find_element_by_xpath('//*[@id=\"onetrust-accept-btn-handler\"]')\n",
    "accept_cookies.click()"
   ]
  },
  {
   "cell_type": "code",
   "execution_count": 126,
   "metadata": {},
   "outputs": [],
   "source": [
    "login = driver.find_element_by_xpath('//*[@id=\"HardsellOverlay\"]/div/div/div/div/div/div/div/div[2]/div/a')\n",
    "login.click()"
   ]
  },
  {
   "cell_type": "code",
   "execution_count": 127,
   "metadata": {},
   "outputs": [],
   "source": [
    "username_textbox = driver.find_element_by_xpath('//*[@id=\"userEmail\"]')\n",
    "password_textbox = driver.find_element_by_xpath('//*[@id=\"userPassword\"]')"
   ]
  },
  {
   "cell_type": "code",
   "execution_count": 128,
   "metadata": {},
   "outputs": [],
   "source": [
    "username_textbox.send_keys(username)\n",
    "password_textbox.send_keys(password)"
   ]
  },
  {
   "cell_type": "code",
   "execution_count": 129,
   "metadata": {},
   "outputs": [],
   "source": [
    "login_button = driver.find_element_by_xpath('//*[@id=\"HardsellOverlay\"]/div/div/div/div/div/div/div/div[3]/form/div[3]/div[1]/button')\n",
    "login_button.click()"
   ]
  },
  {
   "cell_type": "code",
   "execution_count": 130,
   "metadata": {},
   "outputs": [],
   "source": [
    "for i in range(4,24):\n",
    "    job_title = driver.find_element_by_xpath(f'//*[@id=\"SalariesByCompany\"]/div[1]/div[{i}]/div/div[1]/div/div[2]/p[1]/a').text\n",
    "    job_titlesldn.append(job_title)\n",
    "    company = driver.find_element_by_xpath(f'//*[@id=\"SalariesByCompany\"]/div[1]/div[{i}]/div/div[1]/div/div[2]/p[2]').text\n",
    "    companiesldn.append(company)\n",
    "    salary = driver.find_element_by_xpath(f'//*[@id=\"SalariesByCompany\"]/div[1]/div[{i}]/div/div[1]/div/div[2]/p[3]').text\n",
    "    salariesldn.append(salary)"
   ]
  },
  {
   "cell_type": "code",
   "execution_count": 131,
   "metadata": {},
   "outputs": [
    {
     "name": "stdout",
     "output_type": "stream",
     "text": [
      "['Data Analyst', 'Data Analyst', 'Data Analyst', 'Data Analyst', 'Data Analyst', 'Data Analyst', 'Data Analyst', 'Data Analyst', 'Data Analyst', 'Data Analyst', 'Data Analyst', 'Data Analyst', 'Data Analyst', 'Data Analyst', 'Data Analyst', 'Data Analyst', 'Data Analyst', 'Data Analyst', 'Data Analyst', 'Data Analyst', 'Data Analyst', 'Data Analyst', 'Data Analyst - Proveedor de servicios por hora', 'Data Analyst - Proveedor de servicios', 'Data Analyst', 'Data Analyst', 'Data Analyst', 'Data Analyst', 'Data Analyst', 'Data Analyst', 'Data Analyst', 'Data Analyst', 'Data Analyst', 'Data Analyst', 'Data Analyst', 'Data Analyst', 'Data Analyst', 'Data Analyst', 'Data Analyst', 'Data Analyst']\n",
      "['Bloomberg L.P.', \"Her Majesty's Revenue & Customs\", 'Experian', 'Sport England', 'Kubrick Group', 'PwC', 'KPMG', 'Sky', 'Cision', 'EY', 'BAE Systems Applied Intelligence', 'CACI (UK)', 'Deloitte', 'Ministry of Justice UK', 'Kantar Media', 'Legal and General Investment Management', 'BCD Travel', 'Infectious Media', 'Tesco', 'Barclays', 'Accenture', 'Marks & Spencer', 'HSBC Holdings', 'HSBC Holdings', 'Capita', 'Vodafone', 'Imperial College London', 'UBS', 'Royal Mail', 'Cognizant Technology Solutions', 'FDM Group', 'BDO', 'CBRE', 'TalkTalk Group', 'Bank of England', 'OMD', 'Gamesys', 'The Telegraph', 'Radisson Hotel Group', 'Revolut']\n",
      "['44.221 £/año', '33.879 £/año', '31.671 £/año', '46.467 £/año', '26.106 £/año', '33.096 £/año', '38.444 £/año', '40.955 £/año', '23.689 £/año', '41.838 £/año', '39.576 £/año', '27.392 £/año', '34.048 £/año', '35.550 £/año', '29.569 £/año', '57.384 £/año', '26.036 £/año', '24.445 £/año', '55.000 £/año', '47.031 £/año', '34.876 £/año', '36.831 £/año', '17 £/h', '45.844 £/año', '28.392 £/año', '25.070 £/año', '38.000 £/año', '60.558 £/año', '49.788 £/año', '32.067 £/año', '20.071 £/año', '28.637 £/año', '30.765 £/año', '36.558 £/año', '32.089 £/año', '28.400 £/año', '32.483 £/año', '28.026 £/año', '39.472 £/año', '50.000 £/año']\n"
     ]
    }
   ],
   "source": [
    "print(job_titlesldn)\n",
    "print(companiesldn)\n",
    "print(salariesldn)"
   ]
  },
  {
   "cell_type": "code",
   "execution_count": 132,
   "metadata": {},
   "outputs": [],
   "source": [
    "third_page = driver.find_element_by_xpath('//*[@id=\"SalariesByCompany\"]/div[1]/div[24]/ul/li[4]/a')\n",
    "third_page.click()"
   ]
  },
  {
   "cell_type": "code",
   "execution_count": 133,
   "metadata": {},
   "outputs": [],
   "source": [
    "for i in range(4,24):\n",
    "    job_title = driver.find_element_by_xpath(f'//*[@id=\"SalariesByCompany\"]/div[1]/div[{i}]/div/div[1]/div/div[2]/p[1]/a').text\n",
    "    job_titlesldn.append(job_title)\n",
    "    company = driver.find_element_by_xpath(f'//*[@id=\"SalariesByCompany\"]/div[1]/div[{i}]/div/div[1]/div/div[2]/p[2]').text\n",
    "    companiesldn.append(company)\n",
    "    salary = driver.find_element_by_xpath(f'//*[@id=\"SalariesByCompany\"]/div[1]/div[{i}]/div/div[1]/div/div[2]/p[3]').text\n",
    "    salariesldn.append(salary)"
   ]
  },
  {
   "cell_type": "code",
   "execution_count": 134,
   "metadata": {},
   "outputs": [
    {
     "name": "stdout",
     "output_type": "stream",
     "text": [
      "['Data Analyst', 'Data Analyst', 'Data Analyst', 'Data Analyst', 'Data Analyst', 'Data Analyst', 'Data Analyst', 'Data Analyst', 'Data Analyst', 'Data Analyst', 'Data Analyst', 'Data Analyst', 'Data Analyst', 'Data Analyst', 'Data Analyst', 'Data Analyst', 'Data Analyst', 'Data Analyst', 'Data Analyst', 'Data Analyst', 'Data Analyst', 'Data Analyst', 'Data Analyst - Proveedor de servicios por hora', 'Data Analyst - Proveedor de servicios', 'Data Analyst', 'Data Analyst', 'Data Analyst', 'Data Analyst', 'Data Analyst', 'Data Analyst', 'Data Analyst', 'Data Analyst', 'Data Analyst', 'Data Analyst', 'Data Analyst', 'Data Analyst', 'Data Analyst', 'Data Analyst', 'Data Analyst', 'Data Analyst', 'Data Analyst', 'Data Analyst', 'Data Analyst', 'Data Analyst', 'Data Analyst', 'Data Analyst', 'Data Analyst', 'Data Analyst', 'Data Analyst', 'Data Analyst', 'Data Analyst', 'Data Analyst', 'Data Analyst', 'Data Analyst', 'Data Analyst - Proveedor de servicios por hora', 'Data Analyst - Proveedor de servicios por mes', 'Data Analyst', 'Data Analyst - Proveedor de servicios por hora', 'Data Analyst', 'Data Analyst']\n",
      "['Bloomberg L.P.', \"Her Majesty's Revenue & Customs\", 'Experian', 'Sport England', 'Kubrick Group', 'PwC', 'KPMG', 'Sky', 'Cision', 'EY', 'BAE Systems Applied Intelligence', 'CACI (UK)', 'Deloitte', 'Ministry of Justice UK', 'Kantar Media', 'Legal and General Investment Management', 'BCD Travel', 'Infectious Media', 'Tesco', 'Barclays', 'Accenture', 'Marks & Spencer', 'HSBC Holdings', 'HSBC Holdings', 'Capita', 'Vodafone', 'Imperial College London', 'UBS', 'Royal Mail', 'Cognizant Technology Solutions', 'FDM Group', 'BDO', 'CBRE', 'TalkTalk Group', 'Bank of England', 'OMD', 'Gamesys', 'The Telegraph', 'Radisson Hotel Group', 'Revolut', 'uSwitch', 'NHS Improvement', 'Financial Services Compensation Scheme', 'Rocket Fuel', 'The Plum Guide', 'ICX4', 'QuantSpark', 'ETFGI.com', 'NHS', 'Lloyds Banking Group', 'HSBC Holdings', 'J.P. Morgan', 'Royal Bank of Scotland', 'BBC', 'GlaxoSmithKline', 'GlaxoSmithKline', 'GlaxoSmithKline', 'Bloomberg L.P.', 'British Airways', 'Apple']\n",
      "['44.221 £/año', '33.879 £/año', '31.671 £/año', '46.467 £/año', '26.106 £/año', '33.096 £/año', '38.444 £/año', '40.955 £/año', '23.689 £/año', '41.838 £/año', '39.576 £/año', '27.392 £/año', '34.048 £/año', '35.550 £/año', '29.569 £/año', '57.384 £/año', '26.036 £/año', '24.445 £/año', '55.000 £/año', '47.031 £/año', '34.876 £/año', '36.831 £/año', '17 £/h', '45.844 £/año', '28.392 £/año', '25.070 £/año', '38.000 £/año', '60.558 £/año', '49.788 £/año', '32.067 £/año', '20.071 £/año', '28.637 £/año', '30.765 £/año', '36.558 £/año', '32.089 £/año', '28.400 £/año', '32.483 £/año', '28.026 £/año', '39.472 £/año', '50.000 £/año', '42.496 £/año', '40.576 £/año', '34.175 £/año', '36.725 £/año', '35.097 £/año', '52.464 £/año', '35.623 £/año', '24.044 £/año', '32.651 £/año', '41.408 £/año', '34.728 £/año', '47.694 £/año', '52.118 £/año', '40.274 £/año', '39 £/h', '2.378 £/mes', '43.166 £/año', '10 £/h', '40.000 £/año', '51.272 £/año']\n"
     ]
    }
   ],
   "source": [
    "print(job_titlesldn)\n",
    "print(companiesldn)\n",
    "print(salariesldn)"
   ]
  },
  {
   "cell_type": "code",
   "execution_count": 135,
   "metadata": {},
   "outputs": [],
   "source": [
    "fourth_page = driver.find_element_by_xpath('//*[@id=\"SalariesByCompany\"]/div[1]/div[24]/ul/li[5]/a')\n",
    "fourth_page.click()"
   ]
  },
  {
   "cell_type": "code",
   "execution_count": 136,
   "metadata": {},
   "outputs": [],
   "source": [
    "for i in range(4,24):\n",
    "    job_title = driver.find_element_by_xpath(f'//*[@id=\"SalariesByCompany\"]/div[1]/div[{i}]/div/div[1]/div/div[2]/p[1]/a').text\n",
    "    job_titlesldn.append(job_title)\n",
    "    company = driver.find_element_by_xpath(f'//*[@id=\"SalariesByCompany\"]/div[1]/div[{i}]/div/div[1]/div/div[2]/p[2]').text\n",
    "    companiesldn.append(company)\n",
    "    salary = driver.find_element_by_xpath(f'//*[@id=\"SalariesByCompany\"]/div[1]/div[{i}]/div/div[1]/div/div[2]/p[3]').text\n",
    "    salariesldn.append(salary)"
   ]
  },
  {
   "cell_type": "code",
   "execution_count": 137,
   "metadata": {},
   "outputs": [
    {
     "name": "stdout",
     "output_type": "stream",
     "text": [
      "['Data Analyst', 'Data Analyst', 'Data Analyst', 'Data Analyst', 'Data Analyst', 'Data Analyst', 'Data Analyst', 'Data Analyst', 'Data Analyst', 'Data Analyst', 'Data Analyst', 'Data Analyst', 'Data Analyst', 'Data Analyst', 'Data Analyst', 'Data Analyst', 'Data Analyst', 'Data Analyst', 'Data Analyst', 'Data Analyst', 'Data Analyst', 'Data Analyst', 'Data Analyst - Proveedor de servicios por hora', 'Data Analyst - Proveedor de servicios', 'Data Analyst', 'Data Analyst', 'Data Analyst', 'Data Analyst', 'Data Analyst', 'Data Analyst', 'Data Analyst', 'Data Analyst', 'Data Analyst', 'Data Analyst', 'Data Analyst', 'Data Analyst', 'Data Analyst', 'Data Analyst', 'Data Analyst', 'Data Analyst', 'Data Analyst', 'Data Analyst', 'Data Analyst', 'Data Analyst', 'Data Analyst', 'Data Analyst', 'Data Analyst', 'Data Analyst', 'Data Analyst', 'Data Analyst', 'Data Analyst', 'Data Analyst', 'Data Analyst', 'Data Analyst', 'Data Analyst - Proveedor de servicios por hora', 'Data Analyst - Proveedor de servicios por mes', 'Data Analyst', 'Data Analyst - Proveedor de servicios por hora', 'Data Analyst', 'Data Analyst', 'Data Analyst', 'Data Analyst', 'Data Analyst', 'Data Analyst', 'Data Analyst - Proveedor de servicios', 'Data Analyst', 'Data Analyst', 'Data Analyst', 'Data Analyst', 'Data Analyst', 'Data Analyst', 'Data Analyst', 'Data Analyst', 'Data Analyst', 'Data Analyst', 'Data Analyst', 'Data Analyst', 'Data Analyst', 'Data Analyst', 'Data Analyst']\n",
      "['Bloomberg L.P.', \"Her Majesty's Revenue & Customs\", 'Experian', 'Sport England', 'Kubrick Group', 'PwC', 'KPMG', 'Sky', 'Cision', 'EY', 'BAE Systems Applied Intelligence', 'CACI (UK)', 'Deloitte', 'Ministry of Justice UK', 'Kantar Media', 'Legal and General Investment Management', 'BCD Travel', 'Infectious Media', 'Tesco', 'Barclays', 'Accenture', 'Marks & Spencer', 'HSBC Holdings', 'HSBC Holdings', 'Capita', 'Vodafone', 'Imperial College London', 'UBS', 'Royal Mail', 'Cognizant Technology Solutions', 'FDM Group', 'BDO', 'CBRE', 'TalkTalk Group', 'Bank of England', 'OMD', 'Gamesys', 'The Telegraph', 'Radisson Hotel Group', 'Revolut', 'uSwitch', 'NHS Improvement', 'Financial Services Compensation Scheme', 'Rocket Fuel', 'The Plum Guide', 'ICX4', 'QuantSpark', 'ETFGI.com', 'NHS', 'Lloyds Banking Group', 'HSBC Holdings', 'J.P. Morgan', 'Royal Bank of Scotland', 'BBC', 'GlaxoSmithKline', 'GlaxoSmithKline', 'GlaxoSmithKline', 'Bloomberg L.P.', 'British Airways', 'Apple', 'Microsoft', 'Thomson Reuters', 'Google', 'British Gas', 'Transport for London', 'Shell', 'IHS Markit', 'Metro Bank', 'Pearson', 'Aon', 'Worldpay', 'dunnhumby', 'Diageo', 'Capital One', 'JLL', 'Legal & General', 'Kantar Worldpanel', 'Mindshare', 'AIG', 'Elsevier']\n",
      "['44.221 £/año', '33.879 £/año', '31.671 £/año', '46.467 £/año', '26.106 £/año', '33.096 £/año', '38.444 £/año', '40.955 £/año', '23.689 £/año', '41.838 £/año', '39.576 £/año', '27.392 £/año', '34.048 £/año', '35.550 £/año', '29.569 £/año', '57.384 £/año', '26.036 £/año', '24.445 £/año', '55.000 £/año', '47.031 £/año', '34.876 £/año', '36.831 £/año', '17 £/h', '45.844 £/año', '28.392 £/año', '25.070 £/año', '38.000 £/año', '60.558 £/año', '49.788 £/año', '32.067 £/año', '20.071 £/año', '28.637 £/año', '30.765 £/año', '36.558 £/año', '32.089 £/año', '28.400 £/año', '32.483 £/año', '28.026 £/año', '39.472 £/año', '50.000 £/año', '42.496 £/año', '40.576 £/año', '34.175 £/año', '36.725 £/año', '35.097 £/año', '52.464 £/año', '35.623 £/año', '24.044 £/año', '32.651 £/año', '41.408 £/año', '34.728 £/año', '47.694 £/año', '52.118 £/año', '40.274 £/año', '39 £/h', '2.378 £/mes', '43.166 £/año', '10 £/h', '40.000 £/año', '51.272 £/año', '45.061 £/año', '33.806 £/año', '44.054 £/año', '33.917 £/año', '31.583 £/año', '39.793 £/año', '31.240 £/año', '42.518 £/año', '30.083 £/año', '33.683 £/año', '35.687 £/año', '44.096 £/año', '31.521 £/año', '35.774 £/año', '32.257 £/año', '42.751 £/año', '26.602 £/año', '27.414 £/año', '48.604 £/año', '52.386 £/año']\n"
     ]
    }
   ],
   "source": [
    "print(job_titlesldn)\n",
    "print(companiesldn)\n",
    "print(salariesldn)"
   ]
  },
  {
   "cell_type": "code",
   "execution_count": 142,
   "metadata": {},
   "outputs": [
    {
     "ename": "WebDriverException",
     "evalue": "Message: chrome not reachable\n  (Session info: chrome=83.0.4103.116)\n",
     "output_type": "error",
     "traceback": [
      "\u001b[1;31m---------------------------------------------------------------------------\u001b[0m",
      "\u001b[1;31mWebDriverException\u001b[0m                        Traceback (most recent call last)",
      "\u001b[1;32m<ipython-input-142-f9c9977a56df>\u001b[0m in \u001b[0;36m<module>\u001b[1;34m\u001b[0m\n\u001b[0;32m      1\u001b[0m \u001b[0mfifith_page\u001b[0m \u001b[1;33m=\u001b[0m \u001b[0mdriver\u001b[0m\u001b[1;33m.\u001b[0m\u001b[0mfind_element_by_xpath\u001b[0m\u001b[1;33m(\u001b[0m\u001b[1;34m'//*[@id=\"SalariesByCompany\"]/div[1]/div[24]/ul/li[5]/a'\u001b[0m\u001b[1;33m)\u001b[0m\u001b[1;33m\u001b[0m\u001b[1;33m\u001b[0m\u001b[0m\n\u001b[1;32m----> 2\u001b[1;33m \u001b[0mfifth_page\u001b[0m\u001b[1;33m.\u001b[0m\u001b[0mclick\u001b[0m\u001b[1;33m(\u001b[0m\u001b[1;33m)\u001b[0m\u001b[1;33m\u001b[0m\u001b[1;33m\u001b[0m\u001b[0m\n\u001b[0m",
      "\u001b[1;32m~\\anaconda3\\lib\\site-packages\\selenium\\webdriver\\remote\\webelement.py\u001b[0m in \u001b[0;36mclick\u001b[1;34m(self)\u001b[0m\n\u001b[0;32m     78\u001b[0m     \u001b[1;32mdef\u001b[0m \u001b[0mclick\u001b[0m\u001b[1;33m(\u001b[0m\u001b[0mself\u001b[0m\u001b[1;33m)\u001b[0m\u001b[1;33m:\u001b[0m\u001b[1;33m\u001b[0m\u001b[1;33m\u001b[0m\u001b[0m\n\u001b[0;32m     79\u001b[0m         \u001b[1;34m\"\"\"Clicks the element.\"\"\"\u001b[0m\u001b[1;33m\u001b[0m\u001b[1;33m\u001b[0m\u001b[0m\n\u001b[1;32m---> 80\u001b[1;33m         \u001b[0mself\u001b[0m\u001b[1;33m.\u001b[0m\u001b[0m_execute\u001b[0m\u001b[1;33m(\u001b[0m\u001b[0mCommand\u001b[0m\u001b[1;33m.\u001b[0m\u001b[0mCLICK_ELEMENT\u001b[0m\u001b[1;33m)\u001b[0m\u001b[1;33m\u001b[0m\u001b[1;33m\u001b[0m\u001b[0m\n\u001b[0m\u001b[0;32m     81\u001b[0m \u001b[1;33m\u001b[0m\u001b[0m\n\u001b[0;32m     82\u001b[0m     \u001b[1;32mdef\u001b[0m \u001b[0msubmit\u001b[0m\u001b[1;33m(\u001b[0m\u001b[0mself\u001b[0m\u001b[1;33m)\u001b[0m\u001b[1;33m:\u001b[0m\u001b[1;33m\u001b[0m\u001b[1;33m\u001b[0m\u001b[0m\n",
      "\u001b[1;32m~\\anaconda3\\lib\\site-packages\\selenium\\webdriver\\remote\\webelement.py\u001b[0m in \u001b[0;36m_execute\u001b[1;34m(self, command, params)\u001b[0m\n\u001b[0;32m    631\u001b[0m             \u001b[0mparams\u001b[0m \u001b[1;33m=\u001b[0m \u001b[1;33m{\u001b[0m\u001b[1;33m}\u001b[0m\u001b[1;33m\u001b[0m\u001b[1;33m\u001b[0m\u001b[0m\n\u001b[0;32m    632\u001b[0m         \u001b[0mparams\u001b[0m\u001b[1;33m[\u001b[0m\u001b[1;34m'id'\u001b[0m\u001b[1;33m]\u001b[0m \u001b[1;33m=\u001b[0m \u001b[0mself\u001b[0m\u001b[1;33m.\u001b[0m\u001b[0m_id\u001b[0m\u001b[1;33m\u001b[0m\u001b[1;33m\u001b[0m\u001b[0m\n\u001b[1;32m--> 633\u001b[1;33m         \u001b[1;32mreturn\u001b[0m \u001b[0mself\u001b[0m\u001b[1;33m.\u001b[0m\u001b[0m_parent\u001b[0m\u001b[1;33m.\u001b[0m\u001b[0mexecute\u001b[0m\u001b[1;33m(\u001b[0m\u001b[0mcommand\u001b[0m\u001b[1;33m,\u001b[0m \u001b[0mparams\u001b[0m\u001b[1;33m)\u001b[0m\u001b[1;33m\u001b[0m\u001b[1;33m\u001b[0m\u001b[0m\n\u001b[0m\u001b[0;32m    634\u001b[0m \u001b[1;33m\u001b[0m\u001b[0m\n\u001b[0;32m    635\u001b[0m     \u001b[1;32mdef\u001b[0m \u001b[0mfind_element\u001b[0m\u001b[1;33m(\u001b[0m\u001b[0mself\u001b[0m\u001b[1;33m,\u001b[0m \u001b[0mby\u001b[0m\u001b[1;33m=\u001b[0m\u001b[0mBy\u001b[0m\u001b[1;33m.\u001b[0m\u001b[0mID\u001b[0m\u001b[1;33m,\u001b[0m \u001b[0mvalue\u001b[0m\u001b[1;33m=\u001b[0m\u001b[1;32mNone\u001b[0m\u001b[1;33m)\u001b[0m\u001b[1;33m:\u001b[0m\u001b[1;33m\u001b[0m\u001b[1;33m\u001b[0m\u001b[0m\n",
      "\u001b[1;32m~\\anaconda3\\lib\\site-packages\\selenium\\webdriver\\remote\\webdriver.py\u001b[0m in \u001b[0;36mexecute\u001b[1;34m(self, driver_command, params)\u001b[0m\n\u001b[0;32m    319\u001b[0m         \u001b[0mresponse\u001b[0m \u001b[1;33m=\u001b[0m \u001b[0mself\u001b[0m\u001b[1;33m.\u001b[0m\u001b[0mcommand_executor\u001b[0m\u001b[1;33m.\u001b[0m\u001b[0mexecute\u001b[0m\u001b[1;33m(\u001b[0m\u001b[0mdriver_command\u001b[0m\u001b[1;33m,\u001b[0m \u001b[0mparams\u001b[0m\u001b[1;33m)\u001b[0m\u001b[1;33m\u001b[0m\u001b[1;33m\u001b[0m\u001b[0m\n\u001b[0;32m    320\u001b[0m         \u001b[1;32mif\u001b[0m \u001b[0mresponse\u001b[0m\u001b[1;33m:\u001b[0m\u001b[1;33m\u001b[0m\u001b[1;33m\u001b[0m\u001b[0m\n\u001b[1;32m--> 321\u001b[1;33m             \u001b[0mself\u001b[0m\u001b[1;33m.\u001b[0m\u001b[0merror_handler\u001b[0m\u001b[1;33m.\u001b[0m\u001b[0mcheck_response\u001b[0m\u001b[1;33m(\u001b[0m\u001b[0mresponse\u001b[0m\u001b[1;33m)\u001b[0m\u001b[1;33m\u001b[0m\u001b[1;33m\u001b[0m\u001b[0m\n\u001b[0m\u001b[0;32m    322\u001b[0m             response['value'] = self._unwrap_value(\n\u001b[0;32m    323\u001b[0m                 response.get('value', None))\n",
      "\u001b[1;32m~\\anaconda3\\lib\\site-packages\\selenium\\webdriver\\remote\\errorhandler.py\u001b[0m in \u001b[0;36mcheck_response\u001b[1;34m(self, response)\u001b[0m\n\u001b[0;32m    240\u001b[0m                 \u001b[0malert_text\u001b[0m \u001b[1;33m=\u001b[0m \u001b[0mvalue\u001b[0m\u001b[1;33m[\u001b[0m\u001b[1;34m'alert'\u001b[0m\u001b[1;33m]\u001b[0m\u001b[1;33m.\u001b[0m\u001b[0mget\u001b[0m\u001b[1;33m(\u001b[0m\u001b[1;34m'text'\u001b[0m\u001b[1;33m)\u001b[0m\u001b[1;33m\u001b[0m\u001b[1;33m\u001b[0m\u001b[0m\n\u001b[0;32m    241\u001b[0m             \u001b[1;32mraise\u001b[0m \u001b[0mexception_class\u001b[0m\u001b[1;33m(\u001b[0m\u001b[0mmessage\u001b[0m\u001b[1;33m,\u001b[0m \u001b[0mscreen\u001b[0m\u001b[1;33m,\u001b[0m \u001b[0mstacktrace\u001b[0m\u001b[1;33m,\u001b[0m \u001b[0malert_text\u001b[0m\u001b[1;33m)\u001b[0m\u001b[1;33m\u001b[0m\u001b[1;33m\u001b[0m\u001b[0m\n\u001b[1;32m--> 242\u001b[1;33m         \u001b[1;32mraise\u001b[0m \u001b[0mexception_class\u001b[0m\u001b[1;33m(\u001b[0m\u001b[0mmessage\u001b[0m\u001b[1;33m,\u001b[0m \u001b[0mscreen\u001b[0m\u001b[1;33m,\u001b[0m \u001b[0mstacktrace\u001b[0m\u001b[1;33m)\u001b[0m\u001b[1;33m\u001b[0m\u001b[1;33m\u001b[0m\u001b[0m\n\u001b[0m\u001b[0;32m    243\u001b[0m \u001b[1;33m\u001b[0m\u001b[0m\n\u001b[0;32m    244\u001b[0m     \u001b[1;32mdef\u001b[0m \u001b[0m_value_or_default\u001b[0m\u001b[1;33m(\u001b[0m\u001b[0mself\u001b[0m\u001b[1;33m,\u001b[0m \u001b[0mobj\u001b[0m\u001b[1;33m,\u001b[0m \u001b[0mkey\u001b[0m\u001b[1;33m,\u001b[0m \u001b[0mdefault\u001b[0m\u001b[1;33m)\u001b[0m\u001b[1;33m:\u001b[0m\u001b[1;33m\u001b[0m\u001b[1;33m\u001b[0m\u001b[0m\n",
      "\u001b[1;31mWebDriverException\u001b[0m: Message: chrome not reachable\n  (Session info: chrome=83.0.4103.116)\n"
     ]
    }
   ],
   "source": [
    "fifith_page = driver.find_element_by_xpath('//*[@id=\"SalariesByCompany\"]/div[1]/div[24]/ul/li[5]/a')\n",
    "fifth_page.click()"
   ]
  },
  {
   "cell_type": "code",
   "execution_count": 143,
   "metadata": {},
   "outputs": [],
   "source": [
    "url5='https://www.glassdoor.es/Sueldos/londres-data-analyst-sueldo-SRCH_IL.0,7_IM1035_KO8,20_IP5.htm'"
   ]
  },
  {
   "cell_type": "code",
   "execution_count": 144,
   "metadata": {},
   "outputs": [],
   "source": [
    "driver = webdriver.Chrome(r'C:\\Users\\Usuario\\Desktop\\Project_scrapper\\chromedriver_win32\\chromedriver.exe')\n",
    "driver.get(url)"
   ]
  },
  {
   "cell_type": "code",
   "execution_count": 147,
   "metadata": {},
   "outputs": [
    {
     "data": {
      "text/plain": [
       "'44.221 £/año'"
      ]
     },
     "execution_count": 147,
     "metadata": {},
     "output_type": "execute_result"
    }
   ],
   "source": [
    "driver.find_element_by_xpath('//*[@id=\"SalariesByCompany\"]/div[1]/div[4]/div/div[1]/div/div[2]/p[3]').text"
   ]
  },
  {
   "cell_type": "code",
   "execution_count": 148,
   "metadata": {},
   "outputs": [],
   "source": [
    "for i in range(4,24):\n",
    "    job_title = driver.find_element_by_xpath(f'//*[@id=\"SalariesByCompany\"]/div[1]/div[{i}]/div/div[1]/div/div[2]/p[1]/a').text\n",
    "    #job_titlesldn.append(job_title)\n",
    "    company = driver.find_element_by_xpath(f'//*[@id=\"SalariesByCompany\"]/div[1]/div[{i}]/div/div[1]/div/div[2]/p[2]').text\n",
    "    #companiesldn.append(company)\n",
    "    salary = driver.find_element_by_xpath(f'//*[@id=\"SalariesByCompany\"]/div[1]/div[{i}]/div/div[1]/div/div[2]/p[3]').text\n",
    "    salariesldn.append(salary)"
   ]
  },
  {
   "cell_type": "code",
   "execution_count": 149,
   "metadata": {},
   "outputs": [
    {
     "name": "stdout",
     "output_type": "stream",
     "text": [
      "['Data Analyst', 'Data Analyst', 'Data Analyst', 'Data Analyst', 'Data Analyst', 'Data Analyst', 'Data Analyst', 'Data Analyst', 'Data Analyst', 'Data Analyst', 'Data Analyst', 'Data Analyst', 'Data Analyst', 'Data Analyst', 'Data Analyst', 'Data Analyst', 'Data Analyst', 'Data Analyst', 'Data Analyst', 'Data Analyst', 'Data Analyst', 'Data Analyst', 'Data Analyst - Proveedor de servicios por hora', 'Data Analyst - Proveedor de servicios', 'Data Analyst', 'Data Analyst', 'Data Analyst', 'Data Analyst', 'Data Analyst', 'Data Analyst', 'Data Analyst', 'Data Analyst', 'Data Analyst', 'Data Analyst', 'Data Analyst', 'Data Analyst', 'Data Analyst', 'Data Analyst', 'Data Analyst', 'Data Analyst', 'Data Analyst', 'Data Analyst', 'Data Analyst', 'Data Analyst', 'Data Analyst', 'Data Analyst', 'Data Analyst', 'Data Analyst', 'Data Analyst', 'Data Analyst', 'Data Analyst', 'Data Analyst', 'Data Analyst', 'Data Analyst', 'Data Analyst - Proveedor de servicios por hora', 'Data Analyst - Proveedor de servicios por mes', 'Data Analyst', 'Data Analyst - Proveedor de servicios por hora', 'Data Analyst', 'Data Analyst', 'Data Analyst', 'Data Analyst', 'Data Analyst', 'Data Analyst', 'Data Analyst - Proveedor de servicios', 'Data Analyst', 'Data Analyst', 'Data Analyst', 'Data Analyst', 'Data Analyst', 'Data Analyst', 'Data Analyst', 'Data Analyst', 'Data Analyst', 'Data Analyst', 'Data Analyst', 'Data Analyst', 'Data Analyst', 'Data Analyst', 'Data Analyst', 'Data Analyst', 'Data Analyst', 'Data Analyst', 'Data Analyst', 'Data Analyst', 'Data Analyst', 'Data Analyst', 'Data Analyst', 'Data Analyst', 'Data Analyst', 'Data Analyst', 'Data Analyst', 'Data Analyst', 'Data Analyst', 'Data Analyst', 'Data Analyst', 'Data Analyst', 'Data Analyst', 'Data Analyst', 'Data Analyst']\n",
      "['Bloomberg L.P.', \"Her Majesty's Revenue & Customs\", 'Experian', 'Sport England', 'Kubrick Group', 'PwC', 'KPMG', 'Sky', 'Cision', 'EY', 'BAE Systems Applied Intelligence', 'CACI (UK)', 'Deloitte', 'Ministry of Justice UK', 'Kantar Media', 'Legal and General Investment Management', 'BCD Travel', 'Infectious Media', 'Tesco', 'Barclays', 'Accenture', 'Marks & Spencer', 'HSBC Holdings', 'HSBC Holdings', 'Capita', 'Vodafone', 'Imperial College London', 'UBS', 'Royal Mail', 'Cognizant Technology Solutions', 'FDM Group', 'BDO', 'CBRE', 'TalkTalk Group', 'Bank of England', 'OMD', 'Gamesys', 'The Telegraph', 'Radisson Hotel Group', 'Revolut', 'uSwitch', 'NHS Improvement', 'Financial Services Compensation Scheme', 'Rocket Fuel', 'The Plum Guide', 'ICX4', 'QuantSpark', 'ETFGI.com', 'NHS', 'Lloyds Banking Group', 'HSBC Holdings', 'J.P. Morgan', 'Royal Bank of Scotland', 'BBC', 'GlaxoSmithKline', 'GlaxoSmithKline', 'GlaxoSmithKline', 'Bloomberg L.P.', 'British Airways', 'Apple', 'Microsoft', 'Thomson Reuters', 'Google', 'British Gas', 'Transport for London', 'Shell', 'IHS Markit', 'Metro Bank', 'Pearson', 'Aon', 'Worldpay', 'dunnhumby', 'Diageo', 'Capital One', 'JLL', 'Legal & General', 'Kantar Worldpanel', 'Mindshare', 'AIG', 'Elsevier', 'Bloomberg L.P.', \"Her Majesty's Revenue & Customs\", 'Experian', 'Sport England', 'Kubrick Group', 'PwC', 'KPMG', 'Sky', 'Cision', 'EY', 'BAE Systems Applied Intelligence', 'CACI (UK)', 'Deloitte', 'Ministry of Justice UK', 'Kantar Media', 'Legal and General Investment Management', 'BCD Travel', 'Infectious Media', 'Tesco', 'Barclays']\n",
      "['44.221 £/año', '33.879 £/año', '31.671 £/año', '46.467 £/año', '26.106 £/año', '33.096 £/año', '38.444 £/año', '40.955 £/año', '23.689 £/año', '41.838 £/año', '39.576 £/año', '27.392 £/año', '34.048 £/año', '35.550 £/año', '29.569 £/año', '57.384 £/año', '26.036 £/año', '24.445 £/año', '55.000 £/año', '47.031 £/año', '34.876 £/año', '36.831 £/año', '17 £/h', '45.844 £/año', '28.392 £/año', '25.070 £/año', '38.000 £/año', '60.558 £/año', '49.788 £/año', '32.067 £/año', '20.071 £/año', '28.637 £/año', '30.765 £/año', '36.558 £/año', '32.089 £/año', '28.400 £/año', '32.483 £/año', '28.026 £/año', '39.472 £/año', '50.000 £/año', '42.496 £/año', '40.576 £/año', '34.175 £/año', '36.725 £/año', '35.097 £/año', '52.464 £/año', '35.623 £/año', '24.044 £/año', '32.651 £/año', '41.408 £/año', '34.728 £/año', '47.694 £/año', '52.118 £/año', '40.274 £/año', '39 £/h', '2.378 £/mes', '43.166 £/año', '10 £/h', '40.000 £/año', '51.272 £/año', '45.061 £/año', '33.806 £/año', '44.054 £/año', '33.917 £/año', '31.583 £/año', '39.793 £/año', '31.240 £/año', '42.518 £/año', '30.083 £/año', '33.683 £/año', '35.687 £/año', '44.096 £/año', '31.521 £/año', '35.774 £/año', '32.257 £/año', '42.751 £/año', '26.602 £/año', '27.414 £/año', '48.604 £/año', '52.386 £/año', '', '', '', '', '', '', '', '', '', '', '', '', '', '', '', '', '', '', '', '', '44.221 £/año', '33.879 £/año', '31.671 £/año', '46.467 £/año', '26.106 £/año', '33.096 £/año', '38.444 £/año', '40.955 £/año', '23.689 £/año', '41.838 £/año', '39.576 £/año', '27.392 £/año', '34.048 £/año', '35.550 £/año', '29.569 £/año', '57.384 £/año', '26.036 £/año', '24.445 £/año', '55.000 £/año', '47.031 £/año']\n"
     ]
    }
   ],
   "source": [
    "print(job_titlesldn)\n",
    "print(companiesldn)\n",
    "print(salariesldn)"
   ]
  },
  {
   "cell_type": "code",
   "execution_count": 153,
   "metadata": {},
   "outputs": [],
   "source": [
    "salariesldn.remove('')"
   ]
  },
  {
   "cell_type": "code",
   "execution_count": 154,
   "metadata": {},
   "outputs": [
    {
     "data": {
      "text/plain": [
       "['44.221 £/año',\n",
       " '33.879 £/año',\n",
       " '31.671 £/año',\n",
       " '46.467 £/año',\n",
       " '26.106 £/año',\n",
       " '33.096 £/año',\n",
       " '38.444 £/año',\n",
       " '40.955 £/año',\n",
       " '23.689 £/año',\n",
       " '41.838 £/año',\n",
       " '39.576 £/año',\n",
       " '27.392 £/año',\n",
       " '34.048 £/año',\n",
       " '35.550 £/año',\n",
       " '29.569 £/año',\n",
       " '57.384 £/año',\n",
       " '26.036 £/año',\n",
       " '24.445 £/año',\n",
       " '55.000 £/año',\n",
       " '47.031 £/año',\n",
       " '34.876 £/año',\n",
       " '36.831 £/año',\n",
       " '17 £/h',\n",
       " '45.844 £/año',\n",
       " '28.392 £/año',\n",
       " '25.070 £/año',\n",
       " '38.000 £/año',\n",
       " '60.558 £/año',\n",
       " '49.788 £/año',\n",
       " '32.067 £/año',\n",
       " '20.071 £/año',\n",
       " '28.637 £/año',\n",
       " '30.765 £/año',\n",
       " '36.558 £/año',\n",
       " '32.089 £/año',\n",
       " '28.400 £/año',\n",
       " '32.483 £/año',\n",
       " '28.026 £/año',\n",
       " '39.472 £/año',\n",
       " '50.000 £/año',\n",
       " '42.496 £/año',\n",
       " '40.576 £/año',\n",
       " '34.175 £/año',\n",
       " '36.725 £/año',\n",
       " '35.097 £/año',\n",
       " '52.464 £/año',\n",
       " '35.623 £/año',\n",
       " '24.044 £/año',\n",
       " '32.651 £/año',\n",
       " '41.408 £/año',\n",
       " '34.728 £/año',\n",
       " '47.694 £/año',\n",
       " '52.118 £/año',\n",
       " '40.274 £/año',\n",
       " '39 £/h',\n",
       " '2.378 £/mes',\n",
       " '43.166 £/año',\n",
       " '10 £/h',\n",
       " '40.000 £/año',\n",
       " '51.272 £/año',\n",
       " '45.061 £/año',\n",
       " '33.806 £/año',\n",
       " '44.054 £/año',\n",
       " '33.917 £/año',\n",
       " '31.583 £/año',\n",
       " '39.793 £/año',\n",
       " '31.240 £/año',\n",
       " '42.518 £/año',\n",
       " '30.083 £/año',\n",
       " '33.683 £/año',\n",
       " '35.687 £/año',\n",
       " '44.096 £/año',\n",
       " '31.521 £/año',\n",
       " '35.774 £/año',\n",
       " '32.257 £/año',\n",
       " '42.751 £/año',\n",
       " '26.602 £/año',\n",
       " '27.414 £/año',\n",
       " '48.604 £/año',\n",
       " '52.386 £/año',\n",
       " '',\n",
       " '',\n",
       " '',\n",
       " '',\n",
       " '',\n",
       " '',\n",
       " '',\n",
       " '',\n",
       " '',\n",
       " '',\n",
       " '',\n",
       " '',\n",
       " '',\n",
       " '',\n",
       " '',\n",
       " '',\n",
       " '',\n",
       " '',\n",
       " '44.221 £/año',\n",
       " '33.879 £/año',\n",
       " '31.671 £/año',\n",
       " '46.467 £/año',\n",
       " '26.106 £/año',\n",
       " '33.096 £/año',\n",
       " '38.444 £/año',\n",
       " '40.955 £/año',\n",
       " '23.689 £/año',\n",
       " '41.838 £/año',\n",
       " '39.576 £/año',\n",
       " '27.392 £/año',\n",
       " '34.048 £/año',\n",
       " '35.550 £/año',\n",
       " '29.569 £/año',\n",
       " '57.384 £/año',\n",
       " '26.036 £/año',\n",
       " '24.445 £/año',\n",
       " '55.000 £/año',\n",
       " '47.031 £/año']"
      ]
     },
     "execution_count": 154,
     "metadata": {},
     "output_type": "execute_result"
    }
   ],
   "source": [
    "salariesldn"
   ]
  },
  {
   "cell_type": "code",
   "execution_count": 155,
   "metadata": {},
   "outputs": [],
   "source": [
    "accept_cookies = driver.find_element_by_xpath('//*[@id=\"onetrust-accept-btn-handler\"]')\n",
    "accept_cookies.click()"
   ]
  },
  {
   "cell_type": "code",
   "execution_count": 156,
   "metadata": {},
   "outputs": [],
   "source": [
    "login = driver.find_element_by_xpath('//*[@id=\"HardsellOverlay\"]/div/div/div/div/div/div/div/div[2]/div/a')\n",
    "login.click()"
   ]
  },
  {
   "cell_type": "code",
   "execution_count": 157,
   "metadata": {},
   "outputs": [],
   "source": [
    "username_textbox = driver.find_element_by_xpath('//*[@id=\"userEmail\"]')\n",
    "password_textbox = driver.find_element_by_xpath('//*[@id=\"userPassword\"]')"
   ]
  },
  {
   "cell_type": "code",
   "execution_count": 158,
   "metadata": {},
   "outputs": [],
   "source": [
    "username_textbox.send_keys(username)\n",
    "password_textbox.send_keys(password)"
   ]
  },
  {
   "cell_type": "code",
   "execution_count": 159,
   "metadata": {},
   "outputs": [],
   "source": [
    "login_button = driver.find_element_by_xpath('//*[@id=\"HardsellOverlay\"]/div/div/div/div/div/div/div/div[3]/form/div[3]/div[1]/button')\n",
    "login_button.click()"
   ]
  },
  {
   "cell_type": "code",
   "execution_count": 160,
   "metadata": {},
   "outputs": [],
   "source": [
    "for i in range(4,24):\n",
    "    job_title = driver.find_element_by_xpath(f'//*[@id=\"SalariesByCompany\"]/div[1]/div[{i}]/div/div[1]/div/div[2]/p[1]/a').text\n",
    "    job_titlesldn.append(job_title)\n",
    "    company = driver.find_element_by_xpath(f'//*[@id=\"SalariesByCompany\"]/div[1]/div[{i}]/div/div[1]/div/div[2]/p[2]').text\n",
    "    companiesldn.append(company)\n",
    "    salary = driver.find_element_by_xpath(f'//*[@id=\"SalariesByCompany\"]/div[1]/div[{i}]/div/div[1]/div/div[2]/p[3]').text\n",
    "    salariesldn.append(salary)"
   ]
  },
  {
   "cell_type": "code",
   "execution_count": 166,
   "metadata": {},
   "outputs": [
    {
     "name": "stdout",
     "output_type": "stream",
     "text": [
      "['Data Analyst', 'Data Analyst', 'Data Analyst', 'Data Analyst', 'Data Analyst', 'Data Analyst', 'Data Analyst', 'Data Analyst', 'Data Analyst', 'Data Analyst', 'Data Analyst', 'Data Analyst', 'Data Analyst', 'Data Analyst', 'Data Analyst', 'Data Analyst', 'Data Analyst', 'Data Analyst', 'Data Analyst', 'Data Analyst', 'Data Analyst', 'Data Analyst', 'Data Analyst - Proveedor de servicios por hora', 'Data Analyst - Proveedor de servicios', 'Data Analyst', 'Data Analyst', 'Data Analyst', 'Data Analyst', 'Data Analyst', 'Data Analyst', 'Data Analyst', 'Data Analyst', 'Data Analyst', 'Data Analyst', 'Data Analyst', 'Data Analyst', 'Data Analyst', 'Data Analyst', 'Data Analyst', 'Data Analyst', 'Data Analyst', 'Data Analyst', 'Data Analyst', 'Data Analyst', 'Data Analyst', 'Data Analyst', 'Data Analyst', 'Data Analyst', 'Data Analyst', 'Data Analyst', 'Data Analyst', 'Data Analyst', 'Data Analyst', 'Data Analyst', 'Data Analyst - Proveedor de servicios por hora', 'Data Analyst - Proveedor de servicios por mes', 'Data Analyst', 'Data Analyst - Proveedor de servicios por hora', 'Data Analyst', 'Data Analyst', 'Data Analyst', 'Data Analyst', 'Data Analyst', 'Data Analyst', 'Data Analyst - Proveedor de servicios', 'Data Analyst', 'Data Analyst', 'Data Analyst', 'Data Analyst', 'Data Analyst', 'Data Analyst', 'Data Analyst', 'Data Analyst', 'Data Analyst', 'Data Analyst', 'Data Analyst', 'Data Analyst', 'Data Analyst', 'Data Analyst', 'Data Analyst', 'Data Analyst', 'Data Analyst', 'Data Analyst', 'Data Analyst', 'Data Analyst', 'Data Analyst', 'Data Analyst', 'Data Analyst', 'Data Analyst', 'Data Analyst', 'Data Analyst', 'Data Analyst', 'Data Analyst', 'Data Analyst', 'Data Analyst', 'Data Analyst', 'Data Analyst', 'Data Analyst', 'Data Analyst', 'Data Analyst', 'Data Analyst', 'Data Analyst', 'Data Analyst', 'Data Analyst', 'Data Analyst', 'Data Analyst', 'Data Analyst', 'Data Analyst', 'Data Analyst', 'Data Analyst', 'Data Analyst', 'Data Analyst', 'Data Analyst - Becario', 'Data Analyst', 'Data Analyst', 'Data Analyst', 'Data Analyst', 'Data Analyst', 'Data Analyst', 'Data Analyst']\n",
      "['Bloomberg L.P.', \"Her Majesty's Revenue & Customs\", 'Experian', 'Sport England', 'Kubrick Group', 'PwC', 'KPMG', 'Sky', 'Cision', 'EY', 'BAE Systems Applied Intelligence', 'CACI (UK)', 'Deloitte', 'Ministry of Justice UK', 'Kantar Media', 'Legal and General Investment Management', 'BCD Travel', 'Infectious Media', 'Tesco', 'Barclays', 'Accenture', 'Marks & Spencer', 'HSBC Holdings', 'HSBC Holdings', 'Capita', 'Vodafone', 'Imperial College London', 'UBS', 'Royal Mail', 'Cognizant Technology Solutions', 'FDM Group', 'BDO', 'CBRE', 'TalkTalk Group', 'Bank of England', 'OMD', 'Gamesys', 'The Telegraph', 'Radisson Hotel Group', 'Revolut', 'uSwitch', 'NHS Improvement', 'Financial Services Compensation Scheme', 'Rocket Fuel', 'The Plum Guide', 'ICX4', 'QuantSpark', 'ETFGI.com', 'NHS', 'Lloyds Banking Group', 'HSBC Holdings', 'J.P. Morgan', 'Royal Bank of Scotland', 'BBC', 'GlaxoSmithKline', 'GlaxoSmithKline', 'GlaxoSmithKline', 'Bloomberg L.P.', 'British Airways', 'Apple', 'Microsoft', 'Thomson Reuters', 'Google', 'British Gas', 'Transport for London', 'Shell', 'IHS Markit', 'Metro Bank', 'Pearson', 'Aon', 'Worldpay', 'dunnhumby', 'Diageo', 'Capital One', 'JLL', 'Legal & General', 'Kantar Worldpanel', 'Mindshare', 'AIG', 'Elsevier', 'Bloomberg L.P.', \"Her Majesty's Revenue & Customs\", 'Experian', 'Sport England', 'Kubrick Group', 'PwC', 'KPMG', 'Sky', 'Cision', 'EY', 'BAE Systems Applied Intelligence', 'CACI (UK)', 'Deloitte', 'Ministry of Justice UK', 'Kantar Media', 'Legal and General Investment Management', 'BCD Travel', 'Infectious Media', 'Tesco', 'Barclays', 'Guardian News & Media', 'RM', 'Office for National Statistics', 'University of London', 'TP ICAP', 'PHD Worldwide', 'Sparta Global', 'Aimia', 'Argus Media', 'Notting Hill Genesis', 'NaturalMotion', \"Lloyd's\", 'Morningstar', 'Morningstar', 'Wilmington plc', 'Vrbo', 'London Metropolitan University', 'Brave Bison', 'Racing Post', 'JATO Dynamics']\n"
     ]
    }
   ],
   "source": [
    "print(job_titlesldn)\n",
    "print(companiesldn)"
   ]
  },
  {
   "cell_type": "code",
   "execution_count": 164,
   "metadata": {},
   "outputs": [],
   "source": [
    "salariesldn = ['44.221 £/año', '33.879 £/año', '31.671 £/año', '46.467 £/año', '26.106 £/año', '33.096 £/año', '38.444 £/año', '40.955 £/año', '23.689 £/año', '41.838 £/año', '39.576 £/año', '27.392 £/año', '34.048 £/año', '35.550 £/año', '29.569 £/año', '57.384 £/año', '26.036 £/año', '24.445 £/año', '55.000 £/año', '47.031 £/año', '34.876 £/año', '36.831 £/año', '17 £/h', '45.844 £/año', '28.392 £/año', '25.070 £/año', '38.000 £/año', '60.558 £/año', '49.788 £/año', '32.067 £/año', '20.071 £/año', '28.637 £/año', '30.765 £/año', '36.558 £/año', '32.089 £/año', '28.400 £/año', '32.483 £/año', '28.026 £/año', '39.472 £/año', '50.000 £/año', '42.496 £/año', '40.576 £/año', '34.175 £/año', '36.725 £/año', '35.097 £/año', '52.464 £/año', '35.623 £/año', '24.044 £/año', '32.651 £/año', '41.408 £/año', '34.728 £/año', '47.694 £/año', '52.118 £/año', '40.274 £/año', '39 £/h', '2.378 £/mes', '43.166 £/año', '10 £/h', '40.000 £/año', '51.272 £/año', '45.061 £/año', '33.806 £/año', '44.054 £/año', '33.917 £/año', '31.583 £/año', '39.793 £/año', '31.240 £/año', '42.518 £/año', '30.083 £/año', '33.683 £/año', '35.687 £/año', '44.096 £/año', '31.521 £/año', '35.774 £/año', '32.257 £/año', '42.751 £/año', '26.602 £/año', '27.414 £/año', '48.604 £/año', '52.386 £/año', '41.914 £/año', '30.703 £/año', '23.014 £/año', '29.668 £/año', '26.342 £/año', '24.365 £/año', '25.035 £/año', '38.645 £/año', '47.458 £/año', '31.048 £/año', '36.488 £/año', '54.650 £/año', '15.707 £/año', '30.078 £/año', '23.306 £/año', '47.437 £/año', '28.727 £/año', '47.281 £/año', '30.616 £/año', '32.620 £/año']"
   ]
  },
  {
   "cell_type": "code",
   "execution_count": 165,
   "metadata": {},
   "outputs": [
    {
     "name": "stdout",
     "output_type": "stream",
     "text": [
      "100\n"
     ]
    }
   ],
   "source": [
    "print(len(salariesldn))"
   ]
  },
  {
   "cell_type": "code",
   "execution_count": null,
   "metadata": {},
   "outputs": [],
   "source": []
  }
 ],
 "metadata": {
  "kernelspec": {
   "display_name": "Python 3",
   "language": "python",
   "name": "python3"
  },
  "language_info": {
   "codemirror_mode": {
    "name": "ipython",
    "version": 3
   },
   "file_extension": ".py",
   "mimetype": "text/x-python",
   "name": "python",
   "nbconvert_exporter": "python",
   "pygments_lexer": "ipython3",
   "version": "3.7.6"
  }
 },
 "nbformat": 4,
 "nbformat_minor": 4
}
